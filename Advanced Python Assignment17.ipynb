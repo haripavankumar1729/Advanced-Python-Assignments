{
 "cells": [
  {
   "cell_type": "markdown",
   "id": "5c1815e1",
   "metadata": {},
   "source": [
    "# Q1. Explain the difference between greedy and non-greedy syntax with visual terms in as few words as possible. What is the bare minimum effort required to transform a greedy pattern into a non-greedy one? What characters or characters can you introduce or change?"
   ]
  },
  {
   "cell_type": "markdown",
   "id": "d6a20557",
   "metadata": {},
   "source": [
    "Answer:\n",
    "    \n",
    "    \n",
    "    Greedy syntax matches the longest possible substring that satisfies the pattern, while non-greedy (or lazy) syntax\n",
    "    matches the shortest possible substring that satisfies the pattern.\n",
    "\n",
    "    To transform a greedy pattern into a non-greedy one, you can add a \"?\" after the quantifier. For example,\n",
    "    changing \".\" to \".?\" makes it non-greedy.\n",
    "\n",
    "    In Python, you can introduce the \"?\" character to make a quantifier non-greedy. For example, \".?\" matches the \n",
    "    shortest possible substring. You can also use the non-greedy versions of specific quantifiers like \"+\" and \"\".\n",
    "    For example, \"+?\" and \"*?\" are their non-greedy counterparts.\n",
    "    "
   ]
  },
  {
   "cell_type": "code",
   "execution_count": 1,
   "id": "813d8772",
   "metadata": {},
   "outputs": [
    {
     "name": "stdout",
     "output_type": "stream",
     "text": [
      "['vvvvvv', '']\n",
      "['', 'v', '', 'v', '', 'v', '', 'v', '', 'v', '', 'v', '']\n"
     ]
    }
   ],
   "source": [
    "import re\n",
    "print(re.findall(\"v*\", \"vvvvvv\")) # Greedy Match Synatx\n",
    "print(re.findall(\"v*?\", \"vvvvvv\")) # Non Greddy Syntax"
   ]
  },
  {
   "cell_type": "markdown",
   "id": "75cc4a1c",
   "metadata": {},
   "source": [
    "# Q2. When exactly does greedy versus non-greedy make a difference? What if you're looking for a non-greedy match but the only one available is greedy?"
   ]
  },
  {
   "cell_type": "markdown",
   "id": "45c89012",
   "metadata": {},
   "source": [
    "Answer:\n",
    "    \n",
    "    Greedy versus non-greedy matching makes a difference when the pattern being matched contains overlapping \n",
    "    substrings that satisfy the pattern. In such cases, the greedy match will include all the overlapping substrings,\n",
    "    while the non-greedy match will only include the shortest substring that satisfies the pattern.\n",
    "\n",
    "    If you're looking for a non-greedy match but the only one available is greedy in Python, you can force a non-greedy \n",
    "    match by using a negative character set. For example, instead of using the pattern `.*` to match any character zero \n",
    "    or more times, you can use `[^<]*` to match any character except `<` zero or more times. This will give you a \n",
    "    non-greedy match."
   ]
  },
  {
   "cell_type": "markdown",
   "id": "55d8eff3",
   "metadata": {},
   "source": [
    "# Q3. In a simple match of a string, which looks only for one match and does not do any replacement, is the use of a nontagged group likely to make any practical difference?"
   ]
  },
  {
   "cell_type": "markdown",
   "id": "e034b734",
   "metadata": {},
   "source": [
    "Answer:\n",
    "    \n",
    "     From the following Case The Non Tagged Group will not make any diffrence in this case."
   ]
  },
  {
   "cell_type": "code",
   "execution_count": 2,
   "id": "7326bf1d",
   "metadata": {},
   "outputs": [
    {
     "name": "stdout",
     "output_type": "stream",
     "text": [
      "Phone number found -> 234\n",
      "Phone number found -> 234\n"
     ]
    }
   ],
   "source": [
    "import re\n",
    "phoneNumRegex = re.compile(r'\\d\\d\\d')\n",
    "num = phoneNumRegex.search('My number is 234-567-8901.')\n",
    "print(f'Phone number found -> {num.group()}') # Non Tagged group\n",
    "print(f'Phone number found -> {num.group(0)}') # Tagged Group\n",
    "    "
   ]
  },
  {
   "cell_type": "markdown",
   "id": "a385ea32",
   "metadata": {},
   "source": [
    "# Q4. Describe a scenario in which using a nontagged category would have a significant impact on the program's outcomes."
   ]
  },
  {
   "cell_type": "markdown",
   "id": "2836a2d8",
   "metadata": {},
   "source": [
    "Answer:\n",
    "    \n",
    "    Here in the below Code Snippet (.) decimal is not tagged or captured. It will useful in scenarios where the\n",
    "    separator of value in a string is of no use and we need to capture only the values."
   ]
  },
  {
   "cell_type": "code",
   "execution_count": 3,
   "id": "37400ed9",
   "metadata": {},
   "outputs": [
    {
     "data": {
      "text/plain": [
       "('500', '123')"
      ]
     },
     "execution_count": 3,
     "metadata": {},
     "output_type": "execute_result"
    }
   ],
   "source": [
    "import re\n",
    "text='500.123'\n",
    "pattern=r'(\\d+)(?:.)(\\d+)'\n",
    "regobj=re.compile(pattern)\n",
    "matobj=regobj.search(text)\n",
    "matobj.groups()"
   ]
  },
  {
   "cell_type": "markdown",
   "id": "ae1d368b",
   "metadata": {},
   "source": [
    "# Q5. Unlike a normal regex pattern, a look-ahead condition does not consume the characters it examines. Describe a situation in which this could make a difference in the results of your programme."
   ]
  },
  {
   "cell_type": "code",
   "execution_count": 6,
   "id": "e36b9fdb",
   "metadata": {},
   "outputs": [
    {
     "name": "stdout",
     "output_type": "stream",
     "text": [
      "\n",
      "b\n"
     ]
    }
   ],
   "source": [
    "print(re.search('a??','ada').group())\n",
    "\n",
    "print(re.search('a??b','aacb').group())"
   ]
  },
  {
   "cell_type": "markdown",
   "id": "e8776324",
   "metadata": {},
   "source": [
    " Here condition is not matching and not getting output according to our expectations so it makes the differnce in the above result"
   ]
  },
  {
   "cell_type": "markdown",
   "id": "1003784d",
   "metadata": {},
   "source": [
    "# Q6. In standard expressions, what is the difference between positive look-ahead and negative look- ahead?"
   ]
  },
  {
   "cell_type": "markdown",
   "id": "0a4f4287",
   "metadata": {},
   "source": [
    "Answer:\n",
    "    \n",
    "    Positive Lookahead allows to add a condition for what follows. Negative Lookahead is similar, but it looks behind.\n",
    "    That is, it allows to match a pattern only if there’s something before it."
   ]
  },
  {
   "cell_type": "markdown",
   "id": "ffc8b617",
   "metadata": {},
   "source": [
    "# Q7. What is the benefit of referring to groups by name rather than by number in a standard expression?"
   ]
  },
  {
   "cell_type": "markdown",
   "id": "772c09eb",
   "metadata": {},
   "source": [
    "Here's an example that demonstrates the use of named groups in a regular expression"
   ]
  },
  {
   "cell_type": "code",
   "execution_count": 9,
   "id": "c1be4b30",
   "metadata": {},
   "outputs": [
    {
     "name": "stdout",
     "output_type": "stream",
     "text": [
      "krish 25 Data Engineer\n"
     ]
    }
   ],
   "source": [
    "import re\n",
    "\n",
    "text = \"krish, 25 years old, works as a Data Engineer\"\n",
    "\n",
    "# Use named groups to extract the person's name, age, and occupation\n",
    "pattern = \"(?P<name>[A-Za-z ]+), (?P<age>\\d+) years old, works as a (?P<occupation>[A-Za-z ]+)\"\n",
    "match = re.match(pattern, text)\n",
    "\n",
    "# Access the matched groups by name\n",
    "if match:\n",
    "    name = match.group(\"name\")\n",
    "    age = match.group(\"age\")\n",
    "    occupation = match.group(\"occupation\")\n",
    "\n",
    "print(name, age, occupation)\n"
   ]
  },
  {
   "cell_type": "markdown",
   "id": "27cf8837",
   "metadata": {},
   "source": [
    "In this example, we use named groups to extract the person's name, age, and occupation from the string. We can access the matched groups using their respective names, which provides a more readable and maintainable code."
   ]
  },
  {
   "cell_type": "markdown",
   "id": "eedd0cbe",
   "metadata": {},
   "source": [
    "# Q8. Can you identify repeated items within a target string using named groups, as in &quot;The cow jumped over the moon&quot;?"
   ]
  },
  {
   "cell_type": "code",
   "execution_count": 10,
   "id": "a2900c0c",
   "metadata": {},
   "outputs": [
    {
     "data": {
      "text/plain": [
       "'oo'"
      ]
     },
     "execution_count": 10,
     "metadata": {},
     "output_type": "execute_result"
    }
   ],
   "source": [
    "re.search(r'(.+?)\\1+', \"the cow jumped over the moon\").group()"
   ]
  },
  {
   "cell_type": "markdown",
   "id": "fb932625",
   "metadata": {},
   "source": [
    "# Q9. When parsing a string, what is at least one thing that the Scanner interface does for you that the re.findall feature does not?"
   ]
  },
  {
   "cell_type": "markdown",
   "id": "7d0ce33f",
   "metadata": {},
   "source": [
    "Answer:\n",
    "    \n",
    "    re.findall() module is used to search for all occurrences that match a given pattern. In contrast, re.search() will only return the first occurrence that matches the specified pattern. re.findall() will iterate over all the lines of the file and will return all non-overlapping matches of pattern in a single step."
   ]
  },
  {
   "cell_type": "markdown",
   "id": "efd83159",
   "metadata": {},
   "source": [
    "# Q10. Does a scanner object have to be named scanner?"
   ]
  },
  {
   "cell_type": "markdown",
   "id": "8e0ff3c2",
   "metadata": {},
   "source": [
    "Answer:\n",
    "    \n",
    "    In Python, there is no built-in class or object called Scanner, so you don't have to name any object as \"scanner\". "
   ]
  }
 ],
 "metadata": {
  "kernelspec": {
   "display_name": "Python 3 (ipykernel)",
   "language": "python",
   "name": "python3"
  },
  "language_info": {
   "codemirror_mode": {
    "name": "ipython",
    "version": 3
   },
   "file_extension": ".py",
   "mimetype": "text/x-python",
   "name": "python",
   "nbconvert_exporter": "python",
   "pygments_lexer": "ipython3",
   "version": "3.9.12"
  }
 },
 "nbformat": 4,
 "nbformat_minor": 5
}
