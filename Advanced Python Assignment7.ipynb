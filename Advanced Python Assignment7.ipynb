{
 "cells": [
  {
   "cell_type": "markdown",
   "id": "c4b579e0",
   "metadata": {},
   "source": [
    "# Q1. What is the purpose of the try statement?"
   ]
  },
  {
   "cell_type": "markdown",
   "id": "0e369709",
   "metadata": {},
   "source": [
    "Answer:\n",
    "    \n",
    "    The try statement is used to handle exceptions or errors that may occur during the execution of a block of \n",
    "    code.\n",
    "\n",
    "    The basic syntax of a try statement is as follows:"
   ]
  },
  {
   "cell_type": "code",
   "execution_count": 1,
   "id": "7f6f4f75",
   "metadata": {},
   "outputs": [
    {
     "name": "stdout",
     "output_type": "stream",
     "text": [
      "Division by Zero is Not Possible\n"
     ]
    }
   ],
   "source": [
    "try:\n",
    "    print(100/0)\n",
    "except ZeroDivisionError:\n",
    "    print('Division by Zero is Not Possible')"
   ]
  },
  {
   "cell_type": "markdown",
   "id": "406382e1",
   "metadata": {},
   "source": [
    "    From above syntax, try indicates the block of code that may raise an exception or error, and except is used to define \n",
    "    the block of code that should be executed if an exception or error occurs.\n",
    "\n",
    "    When a try block is executed, if an exception occurs, Python stops the execution of the try block and starts executing \n",
    "    the except block, which is designed to handle the exception or error. The type of exception that is caught can be \n",
    "    specified in the except statement.\n",
    "\n",
    "    The purpose of the try statement is to allow developers to write code that can handle different types of exceptions \n",
    "    and errors in a more controlled manner, preventing the program from crashing or producing unexpected results."
   ]
  },
  {
   "cell_type": "markdown",
   "id": "d8454d26",
   "metadata": {},
   "source": [
    "# Q2. What are the two most popular try statement variations?"
   ]
  },
  {
   "cell_type": "markdown",
   "id": "5937deef",
   "metadata": {},
   "source": [
    "Answer:\n",
    "    \n",
    "    The two most popular try statement variations are try-except and try-finally.\n",
    "    \n",
    "    1.try-except:\n",
    "\n",
    "    The try-except block is used to handle exceptions that may occur during the execution of a program. The code that \n",
    "    might raise an exception is placed inside the try block, and if an exception occurs, it is caught by the except block.           \n",
    "    Here's an example:"
   ]
  },
  {
   "cell_type": "code",
   "execution_count": 2,
   "id": "f8c82b0f",
   "metadata": {},
   "outputs": [
    {
     "name": "stdout",
     "output_type": "stream",
     "text": [
      "Division by Zero is Not Possible\n"
     ]
    }
   ],
   "source": [
    "try:\n",
    "    print(100/0)\n",
    "except ZeroDivisionError:\n",
    "    print('Division by Zero is Not Possible')"
   ]
  },
  {
   "cell_type": "markdown",
   "id": "891fa2ff",
   "metadata": {},
   "source": [
    "    2.try-finally:\n",
    "    \n",
    "    The try-finally block is used to ensure that a section of code is always executed, even if an exception occurs. \n",
    "    The code that might raise an exception is placed inside the try block, and the code that must be executed \n",
    "    regardless of whether an exception occurs or not is placed inside the finally block.\n",
    "    \n",
    "    Here's an example:"
   ]
  },
  {
   "cell_type": "code",
   "execution_count": 3,
   "id": "f304c0e3",
   "metadata": {},
   "outputs": [],
   "source": [
    "def divide(x, y):\n",
    "    try:\n",
    "        # Floor Division : Gives only Fractional\n",
    "        # Part as Answer\n",
    "        result = x // y\n",
    "    except ZeroDivisionError:\n",
    "        print(\"Sorry ! You are dividing by zero \")\n",
    "    else:\n",
    "        print(\"Yeah ! Your answer is :\", result)\n",
    "    finally: \n",
    "        # this block is always executed  \n",
    "        # regardless of exception generation. \n",
    "        print('This is always executed') "
   ]
  },
  {
   "cell_type": "code",
   "execution_count": 4,
   "id": "79c22273",
   "metadata": {},
   "outputs": [
    {
     "name": "stdout",
     "output_type": "stream",
     "text": [
      "Yeah ! Your answer is : 2\n",
      "This is always executed\n"
     ]
    }
   ],
   "source": [
    "divide(5,2)"
   ]
  },
  {
   "cell_type": "code",
   "execution_count": 5,
   "id": "8fbcd4a5",
   "metadata": {},
   "outputs": [
    {
     "name": "stdout",
     "output_type": "stream",
     "text": [
      "Sorry ! You are dividing by zero \n",
      "This is always executed\n"
     ]
    }
   ],
   "source": [
    "divide(5,0)"
   ]
  },
  {
   "cell_type": "markdown",
   "id": "7686e6e6",
   "metadata": {},
   "source": [
    "# Q3. What is the purpose of the raise statement?"
   ]
  },
  {
   "cell_type": "markdown",
   "id": "ba2be00f",
   "metadata": {},
   "source": [
    "Answer:\n",
    "    \n",
    "    The raise statement is used to raise an exception explicitly in a program. When a problem or error occurs during the             execution of a program, Python generates an exception object to report the error. However, sometimes we may need to \n",
    "    raise an exception explicitly in our code if a specific condition is not met or if there is an exceptional case that \n",
    "    needs to be handled differently.\n",
    "    \n",
    "    For example, we can use the raise statement to raise a ValueError exception if the input to a function is not valid:"
   ]
  },
  {
   "cell_type": "code",
   "execution_count": 6,
   "id": "2c47995c",
   "metadata": {},
   "outputs": [],
   "source": [
    "def divide_numbers(a, b):\n",
    "    if b == 0:\n",
    "        raise ValueError(\"Cannot divide by zero\")\n",
    "    return a / b"
   ]
  },
  {
   "cell_type": "markdown",
   "id": "ea77271d",
   "metadata": {},
   "source": [
    "    In this example, if the second argument to the divide_numbers function is 0, the raise statement is executed to raise a ValueError with the message \"Cannot divide by zero\". This allows the program to handle the exceptional case in a more specific way."
   ]
  },
  {
   "cell_type": "markdown",
   "id": "0390537e",
   "metadata": {},
   "source": [
    "# Q4. What does the assert statement do, and what other statement is it like?"
   ]
  },
  {
   "cell_type": "markdown",
   "id": "b766bb33",
   "metadata": {},
   "source": [
    "Answer:\n",
    "    \n",
    "    The assert statement is used to check if a condition is true, and if it's not, it raises an AssertionError with an optional error message. The assert statement is typically used as a debugging aid to check the correctness of code assumptions during development.\n",
    "    "
   ]
  },
  {
   "cell_type": "code",
   "execution_count": 7,
   "id": "83e38360",
   "metadata": {},
   "outputs": [],
   "source": [
    "def test(x):\n",
    "    assert x == 10, \"x should be equal to 10\"\n"
   ]
  },
  {
   "cell_type": "code",
   "execution_count": 8,
   "id": "883bddf8",
   "metadata": {},
   "outputs": [
    {
     "ename": "AssertionError",
     "evalue": "x should be equal to 10",
     "output_type": "error",
     "traceback": [
      "\u001b[1;31m---------------------------------------------------------------------------\u001b[0m",
      "\u001b[1;31mAssertionError\u001b[0m                            Traceback (most recent call last)",
      "Input \u001b[1;32mIn [8]\u001b[0m, in \u001b[0;36m<cell line: 1>\u001b[1;34m()\u001b[0m\n\u001b[1;32m----> 1\u001b[0m \u001b[43mtest\u001b[49m\u001b[43m(\u001b[49m\u001b[38;5;241;43m20\u001b[39;49m\u001b[43m)\u001b[49m\n",
      "Input \u001b[1;32mIn [7]\u001b[0m, in \u001b[0;36mtest\u001b[1;34m(x)\u001b[0m\n\u001b[0;32m      1\u001b[0m \u001b[38;5;28;01mdef\u001b[39;00m \u001b[38;5;21mtest\u001b[39m(x):\n\u001b[1;32m----> 2\u001b[0m     \u001b[38;5;28;01massert\u001b[39;00m x \u001b[38;5;241m==\u001b[39m \u001b[38;5;241m10\u001b[39m, \u001b[38;5;124m\"\u001b[39m\u001b[38;5;124mx should be equal to 10\u001b[39m\u001b[38;5;124m\"\u001b[39m\n",
      "\u001b[1;31mAssertionError\u001b[0m: x should be equal to 10"
     ]
    }
   ],
   "source": [
    "test(20)"
   ]
  },
  {
   "cell_type": "markdown",
   "id": "054c7dfe",
   "metadata": {},
   "source": [
    "    From above code, the assert statement will not raise an exception because x is equal to 10. However, if we change x to a different value, such as x = 20, the assert statement will fail and raise an AssertionError with the error message \n",
    "    \"x should be equal to 10\".\n",
    "\n",
    "    The assert statement is similar to the if statement in Python. Both statements check if a condition is true or false,\n",
    "    and perform some action based on the result of the test. However, the assert statement is used specifically for \n",
    "    debugging and testing purposes, while the if statement is used for general-purpose flow control."
   ]
  },
  {
   "cell_type": "markdown",
   "id": "8fdba1a4",
   "metadata": {},
   "source": [
    "# Q5. What is the purpose of the with/as argument, and what other statement is it like?"
   ]
  },
  {
   "cell_type": "markdown",
   "id": "86df55f6",
   "metadata": {},
   "source": [
    "Answer:\n",
    "    \n",
    "    with/as statement simplifies use of file handling in python. When we use a with statement for file reading, there \n",
    "    is no need for programmer to explicitly takecare of activities like resource deallocation and file closing by using             file.close() method. with statement itself ensures proper acquisition and release of resources. \n",
    "    This avoids triggering of exceptions if file closing is unknowingly forgotten in the code execution."
   ]
  },
  {
   "cell_type": "code",
   "execution_count": 9,
   "id": "e5c8487f",
   "metadata": {},
   "outputs": [],
   "source": [
    "with open('sample_file.txt','w') as file: file.write('Hello World')"
   ]
  }
 ],
 "metadata": {
  "kernelspec": {
   "display_name": "Python 3 (ipykernel)",
   "language": "python",
   "name": "python3"
  },
  "language_info": {
   "codemirror_mode": {
    "name": "ipython",
    "version": 3
   },
   "file_extension": ".py",
   "mimetype": "text/x-python",
   "name": "python",
   "nbconvert_exporter": "python",
   "pygments_lexer": "ipython3",
   "version": "3.9.12"
  }
 },
 "nbformat": 4,
 "nbformat_minor": 5
}
