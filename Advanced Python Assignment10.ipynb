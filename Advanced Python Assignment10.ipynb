{
 "cells": [
  {
   "cell_type": "markdown",
   "id": "a583f213",
   "metadata": {},
   "source": [
    "# Q1. What is the difference between __getattr__ and __getattribute__?"
   ]
  },
  {
   "cell_type": "markdown",
   "id": "1426ba98",
   "metadata": {},
   "source": [
    "Answer:\n",
    "    \n",
    "    __getattr__ and __getattribute__ are both special methods in Python that are used to define how an object should handle attribute access. However, they have some important differences.\n",
    "\n",
    "    (a) __getattr__ is called when an attribute is accessed that does not exist on the object. It takes one argument, the name\n",
    "    of the attribute being accessed, and should return the value of that attribute or raise an AttributeError if the \n",
    "    attribute does not exist.\n",
    "\n",
    "    For example, suppose you have a class Person with a name attribute:"
   ]
  },
  {
   "cell_type": "code",
   "execution_count": 1,
   "id": "2d79c607",
   "metadata": {},
   "outputs": [],
   "source": [
    "class Person:\n",
    "    def __init__(self, name):\n",
    "        self.name = name"
   ]
  },
  {
   "cell_type": "markdown",
   "id": "1e6ba460",
   "metadata": {},
   "source": [
    "    If you create an instance of Person and try to access an attribute that does not exist, like person.age, Python will \n",
    "    call the __getattr__ method on the object:"
   ]
  },
  {
   "cell_type": "code",
   "execution_count": 2,
   "id": "6238e2d5",
   "metadata": {},
   "outputs": [
    {
     "ename": "AttributeError",
     "evalue": "'Person' object has no attribute 'age'",
     "output_type": "error",
     "traceback": [
      "\u001b[1;31m---------------------------------------------------------------------------\u001b[0m",
      "\u001b[1;31mAttributeError\u001b[0m                            Traceback (most recent call last)",
      "Input \u001b[1;32mIn [2]\u001b[0m, in \u001b[0;36m<cell line: 2>\u001b[1;34m()\u001b[0m\n\u001b[0;32m      1\u001b[0m person \u001b[38;5;241m=\u001b[39m Person(\u001b[38;5;124m'\u001b[39m\u001b[38;5;124mAlice\u001b[39m\u001b[38;5;124m'\u001b[39m)\n\u001b[1;32m----> 2\u001b[0m \u001b[38;5;28mprint\u001b[39m(\u001b[43mperson\u001b[49m\u001b[38;5;241;43m.\u001b[39;49m\u001b[43mage\u001b[49m)\n",
      "\u001b[1;31mAttributeError\u001b[0m: 'Person' object has no attribute 'age'"
     ]
    }
   ],
   "source": [
    "person = Person('Alice')\n",
    "print(person.age)  # raises AttributeError: 'Person' object has no attribute 'age'\n"
   ]
  },
  {
   "cell_type": "markdown",
   "id": "0bd89d53",
   "metadata": {},
   "source": [
    "    You can define the __getattr__ method to return a default value for missing attributes:"
   ]
  },
  {
   "cell_type": "code",
   "execution_count": 3,
   "id": "22aa4ed7",
   "metadata": {},
   "outputs": [],
   "source": [
    "class Person:\n",
    "    def __init__(self, name):\n",
    "        self.name = name\n",
    "    \n",
    "    def __getattr__(self, name):\n",
    "        if name == 'age':\n",
    "            return 18\n",
    "        else:\n",
    "            raise AttributeError(f\"'Person' object has no attribute '{name}'\")\n"
   ]
  },
  {
   "cell_type": "markdown",
   "id": "e1b78b6b",
   "metadata": {},
   "source": [
    "    Now, if you access the age attribute, it will return the default value of 18:"
   ]
  },
  {
   "cell_type": "code",
   "execution_count": 5,
   "id": "3202d435",
   "metadata": {},
   "outputs": [
    {
     "name": "stdout",
     "output_type": "stream",
     "text": [
      "18\n"
     ]
    },
    {
     "ename": "AttributeError",
     "evalue": "'Person' object has no attribute 'height'",
     "output_type": "error",
     "traceback": [
      "\u001b[1;31m---------------------------------------------------------------------------\u001b[0m",
      "\u001b[1;31mAttributeError\u001b[0m                            Traceback (most recent call last)",
      "Input \u001b[1;32mIn [5]\u001b[0m, in \u001b[0;36m<cell line: 3>\u001b[1;34m()\u001b[0m\n\u001b[0;32m      1\u001b[0m person \u001b[38;5;241m=\u001b[39m Person(\u001b[38;5;124m'\u001b[39m\u001b[38;5;124mAlice\u001b[39m\u001b[38;5;124m'\u001b[39m)\n\u001b[0;32m      2\u001b[0m \u001b[38;5;28mprint\u001b[39m(person\u001b[38;5;241m.\u001b[39mage)  \u001b[38;5;66;03m# prints 18\u001b[39;00m\n\u001b[1;32m----> 3\u001b[0m \u001b[38;5;28mprint\u001b[39m(\u001b[43mperson\u001b[49m\u001b[38;5;241;43m.\u001b[39;49m\u001b[43mheight\u001b[49m)\n",
      "Input \u001b[1;32mIn [3]\u001b[0m, in \u001b[0;36mPerson.__getattr__\u001b[1;34m(self, name)\u001b[0m\n\u001b[0;32m      7\u001b[0m     \u001b[38;5;28;01mreturn\u001b[39;00m \u001b[38;5;241m18\u001b[39m\n\u001b[0;32m      8\u001b[0m \u001b[38;5;28;01melse\u001b[39;00m:\n\u001b[1;32m----> 9\u001b[0m     \u001b[38;5;28;01mraise\u001b[39;00m \u001b[38;5;167;01mAttributeError\u001b[39;00m(\u001b[38;5;124mf\u001b[39m\u001b[38;5;124m\"\u001b[39m\u001b[38;5;124m'\u001b[39m\u001b[38;5;124mPerson\u001b[39m\u001b[38;5;124m'\u001b[39m\u001b[38;5;124m object has no attribute \u001b[39m\u001b[38;5;124m'\u001b[39m\u001b[38;5;132;01m{\u001b[39;00mname\u001b[38;5;132;01m}\u001b[39;00m\u001b[38;5;124m'\u001b[39m\u001b[38;5;124m\"\u001b[39m)\n",
      "\u001b[1;31mAttributeError\u001b[0m: 'Person' object has no attribute 'height'"
     ]
    }
   ],
   "source": [
    "person = Person('Alice')\n",
    "print(person.age)  # prints 18\n",
    "print(person.height)  # raises AttributeError: 'Person' object has no attribute 'height'\n"
   ]
  },
  {
   "cell_type": "markdown",
   "id": "05423f9d",
   "metadata": {},
   "source": [
    "    (b) On the other hand, __getattribute__ is called every time an attribute is accessed on the object, regardless of \n",
    "    whether the attribute exists or not. It takes one argument, the name of the attribute being accessed, and should \n",
    "    return the value of that attribute or raise an AttributeError if the attribute does not exist.\n",
    "\n",
    "    For example, suppose you have a class Logger that logs every attribute access:"
   ]
  },
  {
   "cell_type": "code",
   "execution_count": 6,
   "id": "5f0f33b7",
   "metadata": {},
   "outputs": [],
   "source": [
    "class Logger:\n",
    "    def __init__(self, obj):\n",
    "        self.obj = obj\n",
    "        \n",
    "    def __getattribute__(self, name):\n",
    "        print(f\"accessing attribute '{name}'\")\n",
    "        return object.__getattribute__(self.obj, name)\n"
   ]
  },
  {
   "cell_type": "markdown",
   "id": "7ffc5e98",
   "metadata": {},
   "source": [
    "    If you create an instance of Logger and access an attribute on it, Python will call the __getattribute__ method:"
   ]
  },
  {
   "cell_type": "markdown",
   "id": "52b7e082",
   "metadata": {},
   "source": [
    "# Q2. What is the difference between properties and descriptors?"
   ]
  },
  {
   "cell_type": "markdown",
   "id": "7afe0b4f",
   "metadata": {},
   "source": [
    "Answer:\n",
    "    \n",
    "    The differences between Properties and Descriptors is:\n",
    "\n",
    "    Properties: With Properties we can bind getter, setter and delete functions together with an attribute name, using\n",
    "    the built-in property function or @property decorator. When we do this, each reference to an attribute looks like \n",
    "    simple, direct access, but involes the appropriate function of the object.\n",
    "\n",
    "    Descriptor: With Descriptor we can bind getter, setter and delete functions into a seperate class. we then assign an \n",
    "    object of this class to the attribute name in our main class. When we do this, each reference to an attribute looks\n",
    "    like simple, direct access but invokes an appropriate function of descriptor object."
   ]
  },
  {
   "cell_type": "markdown",
   "id": "cebc14c3",
   "metadata": {},
   "source": [
    "# Q3. What are the key differences in functionality between __getattr__ and __getattribute__, as well as properties and descriptors?"
   ]
  },
  {
   "cell_type": "markdown",
   "id": "2df20f4a",
   "metadata": {},
   "source": [
    "Answer:\n",
    "    \n",
    "    The Key Differences between __getattr__, __getattribute__, Properties and Descriptors are:\n",
    "\n",
    "    __getattr__: Python will call this method whenever you request an attribute that hasn't already been defined\n",
    "\n",
    "        __getattribute__ : This method will invoked before looking at the actual attributes on the object. Means,if we\n",
    "        have  __getattribute__ method in our class, python invokes this method for every attribute regardless whether \n",
    "        it exists or not.\n",
    "\n",
    "    Properties: With Properties we can bind getter, setter and delete functions together with an attribute name, using the built-in property function or @property decorator. When we do this, each reference to an attribute looks like simple, direct access, but involes the appropriate function of the object.\n",
    "\n",
    "    Descriptor: With Descriptor we can bind getter, setter and delete functions into a seperate class. we then assign an object of this class to the attribute name in our main class. When we do this, each reference to an attribute looks like simple, direct access but invokes an appropriate function of descriptor object."
   ]
  }
 ],
 "metadata": {
  "kernelspec": {
   "display_name": "Python 3 (ipykernel)",
   "language": "python",
   "name": "python3"
  },
  "language_info": {
   "codemirror_mode": {
    "name": "ipython",
    "version": 3
   },
   "file_extension": ".py",
   "mimetype": "text/x-python",
   "name": "python",
   "nbconvert_exporter": "python",
   "pygments_lexer": "ipython3",
   "version": "3.9.12"
  }
 },
 "nbformat": 4,
 "nbformat_minor": 5
}
