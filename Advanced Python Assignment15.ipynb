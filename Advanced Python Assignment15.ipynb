{
 "cells": [
  {
   "cell_type": "markdown",
   "id": "703b8932",
   "metadata": {},
   "source": [
    "# 1. What are the new features added in Python 3.8 version?"
   ]
  },
  {
   "cell_type": "markdown",
   "id": "243b9baa",
   "metadata": {},
   "source": [
    "Answer:\n",
    "    \n",
    "    Python 3.8 introduced several new features and improvements, some of the most notable ones are:\n",
    "\n",
    "    1.Assignment expressions (the walrus operator): This new operator allows you to assign and return a value in \n",
    "    a single expression. For example, instead of writing if len(some_list) > 0: item = some_list[0], you can now \n",
    "    write if (item := some_list[0]).\n",
    "\n",
    "    2.Positional-only parameters: This feature allows you to define function parameters that can only be passed by\n",
    "    position, not by keyword. This can make function signatures more clear and help prevent errors caused by unexpected\n",
    "    keyword arguments.\n",
    "\n",
    "    3.f-strings now support the = operator: You can now use the = operator inside f-strings to specify the format of \n",
    "    a value. For example, f'{x=}' will output the value of x along with its name.\n",
    "\n",
    "    4.typing.TypedDict: This new class allows you to define dictionaries with specific keys and value types, making it\n",
    "    easier to work with structured data.\n",
    "\n",
    "    5.Performance improvements: Python 3.8 includes several optimizations that can improve the performance of your code,             especially for certain types of operations like dictionary lookups and function calls.\n",
    "\n",
    "    6.Improved datetime module: The datetime module now includes a new zoneinfo module that provides improved timezone\n",
    "    support, including support for more accurate timezone offsets and more up-to-date timezone data.\n",
    "\n",
    "    7.Debug information in traceback objects: Traceback objects now include additional information that can make it\n",
    "    easier to debug errors, including the values of local variables at the point where an exception was raised.\n",
    "\n",
    "    These are just some of the new features in Python 3.8, there are many more smaller changes and improvements as well."
   ]
  },
  {
   "cell_type": "markdown",
   "id": "c2b727f1",
   "metadata": {},
   "source": [
    "# 2. What is monkey patching in Python?"
   ]
  },
  {
   "cell_type": "markdown",
   "id": "a586ea36",
   "metadata": {},
   "source": [
    "Answer:\n",
    "    \n",
    "    Monkey patching in Python refers to the practice of dynamically modifying or extending the behavior of existing \n",
    "    code at runtime by changing or adding new code to existing objects or modules.\n",
    "\n",
    "    For example, if you have a module that defines a function add(a, b) which simply adds two numbers, you can monkey\n",
    "    patch this module by adding a new function add_str(a, b) which concatenates two strings. Here's an example:"
   ]
  },
  {
   "cell_type": "code",
   "execution_count": null,
   "id": "2640d747",
   "metadata": {},
   "outputs": [],
   "source": [
    "# Define the original function\n",
    "def add(a, b):\n",
    "    return a + b\n",
    "\n",
    "# Monkey patch the module by adding a new function\n",
    "def add_str(a, b):\n",
    "    return str(a) + str(b)\n",
    "\n",
    "import module\n",
    "module.add = add_str\n",
    "\n",
    "# Now calling the original function will return a concatenated string instead of an addition\n",
    "print(module.add(1, 2)) # Output: \"12\"\n"
   ]
  },
  {
   "cell_type": "markdown",
   "id": "a9b88cb5",
   "metadata": {},
   "source": [
    "# 3. What is the difference between a shallow copy and deep copy?"
   ]
  },
  {
   "cell_type": "markdown",
   "id": "3e5c5c3d",
   "metadata": {},
   "source": [
    "Answer:\n",
    "    \n",
    "    The Differences between a Shallow Copy and deep copy are as follows:\n",
    "\n",
    "    When an object is copied using copy(), it is called shallow copy as changes made in copied object will also make                 corresponding changes in original object, because both the objects will be referencing same address location.\n",
    "\n",
    "    When an object is copied using deepcopy(), it is called deep copy as changes made in copied object will not make                 corresponding changes in original object, because both the objects will not be referencing same address location."
   ]
  },
  {
   "cell_type": "markdown",
   "id": "c8086eb6",
   "metadata": {},
   "source": [
    "# 4. What is the maximum possible length of an identifier?"
   ]
  },
  {
   "cell_type": "markdown",
   "id": "05238334",
   "metadata": {},
   "source": [
    "Answer:\n",
    "    \n",
    "    In Python, the highest possible length of an identifier is 79 characters. Python is a high level programming\n",
    "    language. It’s also a complex form and a collector of waste.\n",
    "\n",
    "    Python, particularly when combined with identifiers, is case-sensitive.\n",
    "    \n",
    "    When writing or using identifiers in Python, it has a maximum of 79 characters.\n",
    "    \n",
    "    Unlikely, Python gives the identifiers unlimited length.\n",
    "    \n",
    "    However, the layout of PEP-8 prevents the user from breaking the rules and includes a 79-character limit."
   ]
  },
  {
   "cell_type": "markdown",
   "id": "5d1f7079",
   "metadata": {},
   "source": [
    "# 5. What is generator comprehension?"
   ]
  },
  {
   "cell_type": "markdown",
   "id": "3f1398a4",
   "metadata": {},
   "source": [
    "Answer:\n",
    "\n",
    "    Generator comprehension is a way to create a generator object using a concise syntax. It is similar \n",
    "    to list comprehension, but instead of creating a list, it creates a generator object that can be iterated over.\n",
    "\n",
    "    The syntax for generator comprehension is similar to list comprehension, but instead of enclosing the expression \n",
    "    in square brackets, it is enclosed in parentheses. "
   ]
  },
  {
   "cell_type": "code",
   "execution_count": 3,
   "id": "82e4f185",
   "metadata": {},
   "outputs": [
    {
     "name": "stdout",
     "output_type": "stream",
     "text": [
      "[0, 1, 4, 9, 16, 25, 36, 49, 64, 81]\n",
      "<generator object <genexpr> at 0x000001E52E037AC0>\n"
     ]
    }
   ],
   "source": [
    "# List comprehension\n",
    "sqrs = [x**2 for x in range(10)]\n",
    "print(sqrs)  # Output: [0, 1, 4, 9, 16, 25, 36, 49, 64, 81]\n",
    "\n",
    "# Generator comprehension\n",
    "sqr_gen = (x**2 for x in range(10))\n",
    "print(sqr_gen)  # Output: <generator object <genexpr> at 0x7f982c05b200>\n"
   ]
  }
 ],
 "metadata": {
  "kernelspec": {
   "display_name": "Python 3 (ipykernel)",
   "language": "python",
   "name": "python3"
  },
  "language_info": {
   "codemirror_mode": {
    "name": "ipython",
    "version": 3
   },
   "file_extension": ".py",
   "mimetype": "text/x-python",
   "name": "python",
   "nbconvert_exporter": "python",
   "pygments_lexer": "ipython3",
   "version": "3.9.12"
  }
 },
 "nbformat": 4,
 "nbformat_minor": 5
}
