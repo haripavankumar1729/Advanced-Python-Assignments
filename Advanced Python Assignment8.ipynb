{
 "cells": [
  {
   "cell_type": "markdown",
   "id": "61fc5643",
   "metadata": {},
   "source": [
    "# Q1. What are the two latest user-defined exception constraints in Python 3.X?"
   ]
  },
  {
   "cell_type": "markdown",
   "id": "2ea1633f",
   "metadata": {},
   "source": [
    "Answer:\n",
    "    \n",
    "    raise and assert are the two latest user-defined exception constraints in Python 3.X"
   ]
  },
  {
   "cell_type": "markdown",
   "id": "94c4ea17",
   "metadata": {},
   "source": [
    "# Q2. How are class-based exceptions that have been raised matched to handlers?"
   ]
  },
  {
   "cell_type": "markdown",
   "id": "ccd674d5",
   "metadata": {},
   "source": [
    "Answer:\n",
    "    \n",
    "    In python, Users can define custom exceptions by creating a new class. This exception class has to be derived, \n",
    "    either directly or indirectly from built-in Exception class. This new exception class like other exceptions can \n",
    "    be raised using the raise statement with an optional error message."
   ]
  },
  {
   "cell_type": "code",
   "execution_count": 3,
   "id": "d099a7e1",
   "metadata": {},
   "outputs": [
    {
     "ename": "ToYoungException",
     "evalue": "To Young For Voting",
     "output_type": "error",
     "traceback": [
      "\u001b[1;31m---------------------------------------------------------------------------\u001b[0m",
      "\u001b[1;31mToYoungException\u001b[0m                          Traceback (most recent call last)",
      "Input \u001b[1;32mIn [3]\u001b[0m, in \u001b[0;36m<cell line: 5>\u001b[1;34m()\u001b[0m\n\u001b[0;32m      4\u001b[0m age \u001b[38;5;241m=\u001b[39m \u001b[38;5;241m10\u001b[39m\n\u001b[0;32m      5\u001b[0m \u001b[38;5;28;01mif\u001b[39;00m age \u001b[38;5;241m<\u001b[39m\u001b[38;5;241m=\u001b[39m \u001b[38;5;241m18\u001b[39m:\n\u001b[1;32m----> 6\u001b[0m     \u001b[38;5;28;01mraise\u001b[39;00m ToYoungException(\u001b[38;5;124m'\u001b[39m\u001b[38;5;124mTo Young For Voting\u001b[39m\u001b[38;5;124m'\u001b[39m)\n",
      "\u001b[1;31mToYoungException\u001b[0m: To Young For Voting"
     ]
    }
   ],
   "source": [
    "class ToYoungException(Exception):\n",
    "    def __init__(self,msg):\n",
    "        self.msg = msg\n",
    "age = 10\n",
    "if age <= 18:\n",
    "    raise ToYoungException('To Young For Voting')"
   ]
  },
  {
   "cell_type": "markdown",
   "id": "54d98b2a",
   "metadata": {},
   "source": [
    "# Q3. Describe two methods for attaching context information to exception artefacts?"
   ]
  },
  {
   "cell_type": "markdown",
   "id": "eb2360a8",
   "metadata": {},
   "source": [
    "Answer:\n",
    "    \n",
    "    The process() method of LoggerAdapter is where the contextual information is added to the logging output. its passes \n",
    "    the message and keyword arguments of the logging call, and it passes back modified versions of these to use in the \n",
    "    call to the underlying logger.\n",
    "\n",
    "    Other method that can be used is exception(), Logs a messgae with level ERROR on this logger. The arguments are \n",
    "    interpreted as for debug(). Exception info is added to the logging message."
   ]
  },
  {
   "cell_type": "markdown",
   "id": "36520b56",
   "metadata": {},
   "source": [
    "# Q4. Describe two methods for specifying the text of an exception object&#39;s error message."
   ]
  },
  {
   "cell_type": "markdown",
   "id": "c0fcf736",
   "metadata": {},
   "source": [
    "Answer:\n",
    "    \n",
    "    \"raise\" and \"assert\" are two methods for specifying the text of an exception object's error message.raise statement is \n",
    "    used to trigger explicit exception, if certain condition is not as per requirement of programmer. It helps in \n",
    "    triggering exception as per need of programmer and logic.\n",
    "\n",
    "    There are few assertions that programmer always want to be True to avoid code failure. This type of requirment is \n",
    "    fullfilled by assert statement. This statement takes a Boolean Condition output of which if True, further program \n",
    "    executes. If output of assert statement is False it raises an Assertion Error."
   ]
  },
  {
   "cell_type": "markdown",
   "id": "30fabd40",
   "metadata": {},
   "source": [
    "# Q5. Why do you no longer use string-based exceptions?"
   ]
  },
  {
   "cell_type": "markdown",
   "id": "fbcdb592",
   "metadata": {},
   "source": [
    "Answer:\n",
    "    \n",
    "    String-based exceptions were used in older versions of Python to raise and catch exceptions by providing a string \n",
    "    as the exception object. However, this approach has been deprecated since Python 2.5 and removed in Python 3.0. \n",
    "    Instead, Python now uses exception classes that inherit from the BaseException class to raise and catch exceptions.\n",
    "    \n",
    "    There are several reasons why string-based exceptions are no longer used in Python:\n",
    "    \n",
    "    *Lack of information, Difficulty in handling, Security concerns, Better introspection\n",
    "    \n",
    "    Overall, the use of exception classes in Python provides better security, more information, and easier handling \n",
    "    and introspection of exceptions than string-based exceptions."
   ]
  },
  {
   "cell_type": "code",
   "execution_count": null,
   "id": "22d8de71",
   "metadata": {},
   "outputs": [],
   "source": []
  }
 ],
 "metadata": {
  "kernelspec": {
   "display_name": "Python 3 (ipykernel)",
   "language": "python",
   "name": "python3"
  },
  "language_info": {
   "codemirror_mode": {
    "name": "ipython",
    "version": 3
   },
   "file_extension": ".py",
   "mimetype": "text/x-python",
   "name": "python",
   "nbconvert_exporter": "python",
   "pygments_lexer": "ipython3",
   "version": "3.9.12"
  }
 },
 "nbformat": 4,
 "nbformat_minor": 5
}
