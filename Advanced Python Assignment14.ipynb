{
 "cells": [
  {
   "cell_type": "markdown",
   "id": "b045069d",
   "metadata": {},
   "source": [
    "# Q1. Is an assignment operator like += only for show? Is it possible that it would lead to faster results at the runtime?"
   ]
  },
  {
   "cell_type": "markdown",
   "id": "c6b0d552",
   "metadata": {},
   "source": [
    "Answer:\n",
    "    \n",
    "    The += assignment operator has a practical purpose. In some cases, it can produce quicker runtime results than \n",
    "    using the equivalent expression with the standard assignment operator.\n",
    "\n",
    "    Python does not create a new object for the operation's outcome when you use the += operator. Instead, it alters \n",
    "    the thing that is already there. In some circumstances, this may be more effective, particularly when working with \n",
    "    mutable data types like lists, where it might be expensive to create a new object for every action in terms of \n",
    "    memory and processing time.\n",
    "    "
   ]
  },
  {
   "cell_type": "markdown",
   "id": "5483f5ec",
   "metadata": {},
   "source": [
    "# Q2. What is the smallest number of statements you&#39;d have to write in most programming languages to replace the Python expression a, b = a + b, a?"
   ]
  },
  {
   "cell_type": "markdown",
   "id": "901dc2dc",
   "metadata": {},
   "source": [
    "Answer:\n",
    "    \n",
    "    To write the above code in a language other than Python, at least 4 lines are needed: 2 for initialising the variables a and b, and 2 for reassigning them, i.e., a=a+b and b=a."
   ]
  },
  {
   "cell_type": "markdown",
   "id": "26e365f5",
   "metadata": {},
   "source": [
    "# Q3. In Python, what is the most effective way to set a list of 100 integers to 0?"
   ]
  },
  {
   "cell_type": "code",
   "execution_count": 3,
   "id": "cc9648cd",
   "metadata": {},
   "outputs": [
    {
     "name": "stdout",
     "output_type": "stream",
     "text": [
      "[0, 0, 0, 0, 0, 0, 0, 0, 0, 0, 0, 0, 0, 0, 0, 0, 0, 0, 0, 0, 0, 0, 0, 0, 0, 0, 0, 0, 0, 0, 0, 0, 0, 0, 0, 0, 0, 0, 0, 0, 0, 0, 0, 0, 0, 0, 0, 0, 0, 0, 0, 0, 0, 0, 0, 0, 0, 0, 0, 0, 0, 0, 0, 0, 0, 0, 0, 0, 0, 0, 0, 0, 0, 0, 0, 0, 0, 0, 0, 0, 0, 0, 0, 0, 0, 0, 0, 0, 0, 0, 0, 0, 0, 0, 0, 0, 0, 0, 0, 0]\n"
     ]
    }
   ],
   "source": [
    "Zero_List = [0 for i in range(0,100)]\n",
    "print(Zero_List)"
   ]
  },
  {
   "cell_type": "markdown",
   "id": "2ca6fc6e",
   "metadata": {},
   "source": [
    "# Q4. What is the most effective way to initialise a list of 99 integers that repeats the sequence 1, 2, 3?S If necessary, show step-by-step instructions on how to accomplish this."
   ]
  },
  {
   "cell_type": "code",
   "execution_count": 4,
   "id": "ef3070f1",
   "metadata": {},
   "outputs": [
    {
     "name": "stdout",
     "output_type": "stream",
     "text": [
      "[[1, 2, 3, 1, 2, 3, 1, 2, 3, 1, 2, 3, 1, 2, 3, 1, 2, 3, 1, 2, 3, 1, 2, 3, 1, 2, 3, 1, 2, 3, 1, 2, 3, 1, 2, 3, 1, 2, 3, 1, 2, 3, 1, 2, 3, 1, 2, 3, 1, 2, 3, 1, 2, 3, 1, 2, 3, 1, 2, 3, 1, 2, 3, 1, 2, 3, 1, 2, 3, 1, 2, 3, 1, 2, 3, 1, 2, 3, 1, 2, 3, 1, 2, 3, 1, 2, 3, 1, 2, 3, 1, 2, 3, 1, 2, 3, 1, 2, 3]]\n"
     ]
    }
   ],
   "source": [
    "List1= [1,2,3]*33\n",
    "print([List1])\n"
   ]
  },
  {
   "cell_type": "markdown",
   "id": "4aa2abdc",
   "metadata": {},
   "source": [
    "# Q5. If you&#39;re using IDLE to run a Python application, explain how to print a multidimensional list as efficiently?"
   ]
  },
  {
   "cell_type": "markdown",
   "id": "c08993e9",
   "metadata": {},
   "source": [
    "Answer:\n",
    "    \n",
    "    List comprehension with a string is indeed feasible in Python. By performing specific operations on each element\n",
    "    of an iterable object, list comprehension provides a clear and understandable technique to generate a new list.\n",
    "    Here is an illustration of how to extract each individual character from a string into a list using list comprehension:"
   ]
  },
  {
   "cell_type": "markdown",
   "id": "998eabe0",
   "metadata": {},
   "source": [
    "# Q6. Is it possible to use list comprehension with a string? If so, how can you go about doing it?"
   ]
  },
  {
   "cell_type": "code",
   "execution_count": 6,
   "id": "77b63d8c",
   "metadata": {},
   "outputs": [
    {
     "name": "stdout",
     "output_type": "stream",
     "text": [
      "['H', 'e', 'l', 'l', 'o', ' ', 'W', 'o', 'r', 'l', 'd', ' ', 'T', 'h', 'i', 's', ' ', 'i', 's', ' ', 'R', 'o', 'b', 'o']\n"
     ]
    }
   ],
   "source": [
    "List2= \"Hello World This is Robo\"\n",
    "My_List = [i for i in List2]\n",
    "print(My_List)"
   ]
  },
  {
   "cell_type": "markdown",
   "id": "e005da80",
   "metadata": {},
   "source": [
    "# Q7. From the command line, how do you get support with a user-written Python programme? Is this possible from inside IDLE?"
   ]
  },
  {
   "cell_type": "markdown",
   "id": "82f9b38e",
   "metadata": {},
   "source": [
    "Answer:\n",
    "\n",
    "    Get support with a user-written Python Programme: Start a command prompt (Windows) or terminal window (Linux/Mac). \n",
    "    If the current working directory is the same as the location in which you saved the file, you can simply specify \n",
    "    the filename as a command-line argument to the Python interpreter\n",
    "    \n",
    "    Get support with a User-written Python Program from IDLE: You can also create script files and run them in IDLE. \n",
    "    From the Shell window menu, select File → New File. That should open an additional editing window. Type in the code\n",
    "    to be executed. From the menu in that window, select File → Save or File → Save As… and save the file to disk. \n",
    "    Then select Run → Run Module. The output should appear back in the interpreter"
   ]
  },
  {
   "cell_type": "markdown",
   "id": "a12b5cda",
   "metadata": {},
   "source": [
    "# Q8. Functions are said to be “first-class objects” in Python but not in most other languages, such as C++ or Java. What can you do in Python with a function (callable object) that you can&#39;t do in C or C++?"
   ]
  },
  {
   "cell_type": "markdown",
   "id": "50503746",
   "metadata": {},
   "source": [
    "Answer:\n",
    "    \n",
    "    In Python, functions are considered first-class objects, which means they are treated like any other object such \n",
    "    as integers, strings, or lists. This means that you can perform several operations on functions that are not possible \n",
    "    in C or C++. Here are some things you can do with functions in Python:\n",
    "    \n",
    "    1. Assign functions to variables\n",
    "    2. Pass functions as arguments to other functions\n",
    "    3. Return functions from other functions\n",
    "    4. Define functions inside other functions\n",
    "    5. Functions can be elements of collections\n",
    "    \n",
    "    Python treats functions as first-class objects, which means you can do many things with functions that are not\n",
    "    possible in C or C++."
   ]
  },
  {
   "cell_type": "markdown",
   "id": "74960916",
   "metadata": {},
   "source": [
    "# Q9. How do you distinguish between a wrapper, a wrapped feature, and a decorator?"
   ]
  },
  {
   "cell_type": "markdown",
   "id": "b3fd0170",
   "metadata": {},
   "source": [
    "Answer:\n",
    "    \n",
    "    A wrapper, a wrapped feature, and a decorator are all related to the concept of adding functionality to an existing \n",
    "    piece of code. However, they serve different purposes and have different implementations. Here are the definitions and distinctions between these concepts:\n",
    "\n",
    "    1. Wrapper: A wrapper is a function or a class that takes an existing function or class as input and provides \n",
    "    additional functionality around it. A wrapper can be used to modify the behavior of the original function or \n",
    "    class without changing its code. A wrapper function can take arguments, modify the input or output of the \n",
    "    original function, or perform additional processing. A wrapper class can inherit from the original class and\n",
    "    override its methods, or it can implement additional methods that use the original class.\n",
    "\n",
    "    2. Wrapped feature: A wrapped feature is a function or class that is passed as input to a wrapper function or class. \n",
    "    The wrapped feature is the original code that is being modified or extended by the wrapper. The wrapper can access \n",
    "    the wrapped feature and modify its behavior as needed.\n",
    "\n",
    "    3. Decorator: A decorator is a special type of wrapper that uses the \"@\" syntax in Python to modify the behavior of\n",
    "    a function or class. A decorator is a function that takes a function or class as input, and returns a modified \n",
    "    version of the same function or class. Decorators are commonly used to add logging, caching, or authentication to \n",
    "    functions or classes without modifying their code. Decorators are a powerful and flexible tool in Python, and they \n",
    "    can be chained together to create complex functionality.\n",
    "\n",
    "    In summary, a wrapper is a general concept that refers to any function or class that adds functionality around an \n",
    "    existing piece of code. A wrapped feature is the original code that is being modified by the wrapper. A decorator \n",
    "    is a specific type of wrapper that uses the \"@\" syntax in Python and is commonly used to modify the behavior of \n",
    "    functions or classes."
   ]
  },
  {
   "cell_type": "markdown",
   "id": "be803463",
   "metadata": {},
   "source": [
    "# Q10. If a function is a generator function, what does it return?"
   ]
  },
  {
   "cell_type": "markdown",
   "id": "1414a0c5",
   "metadata": {},
   "source": [
    "Answer:\n",
    "    \n",
    "    One particular class of functions is a generator function, which returns a lazy iterator. You can loop through \n",
    "    these things like a list. Lazy iterators, on the other hand, do not save their contents in memory like lists do."
   ]
  },
  {
   "cell_type": "markdown",
   "id": "9f640550",
   "metadata": {},
   "source": [
    "# Q11. What is the one improvement that must be made to a function in order for it to become a generator function in the Python language?"
   ]
  },
  {
   "cell_type": "markdown",
   "id": "47996faa",
   "metadata": {},
   "source": [
    "Answer:\n",
    "    \n",
    "    A regular Python function can only be changed into a generator function by adding the yield keyword to it.\n",
    "    When a function uses the yield keyword, the function is transformed into a generator that produces an iterator.\n",
    "    When the generator function is called, the yield keyword generates a set of values that can be iterated over. \n",
    "    The function's current state is saved and the value is returned to the caller when the yield keyword is used."
   ]
  },
  {
   "cell_type": "markdown",
   "id": "6c85863b",
   "metadata": {},
   "source": [
    "# Q12. Identify at least one benefit of generators."
   ]
  },
  {
   "cell_type": "markdown",
   "id": "672ce6fa",
   "metadata": {},
   "source": [
    "Answer:\n",
    "    \n",
    "     \"return\" statement sends a specified value back to its caller whereas \"yield\" statment can produce a sequence\n",
    "     of values. We should use generator when we want to iterate over a sequence, but don’t want to store the entire \n",
    "     sequence in memory."
   ]
  }
 ],
 "metadata": {
  "kernelspec": {
   "display_name": "Python 3 (ipykernel)",
   "language": "python",
   "name": "python3"
  },
  "language_info": {
   "codemirror_mode": {
    "name": "ipython",
    "version": 3
   },
   "file_extension": ".py",
   "mimetype": "text/x-python",
   "name": "python",
   "nbconvert_exporter": "python",
   "pygments_lexer": "ipython3",
   "version": "3.9.12"
  }
 },
 "nbformat": 4,
 "nbformat_minor": 5
}
