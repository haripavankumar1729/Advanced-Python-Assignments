{
 "cells": [
  {
   "cell_type": "markdown",
   "id": "72e859c4",
   "metadata": {},
   "source": [
    "# Q1. Does assigning a value to a string's indexed character violate Python's string immutability ?"
   ]
  },
  {
   "cell_type": "markdown",
   "id": "6131d848",
   "metadata": {},
   "source": [
    "Answer:\n",
    "    \n",
    "    One final thing that makes strings different from some other Python collection types is that you are not allowed\n",
    "    to modify the individual characters in the collection. It is tempting to use the [] operator on the left side of\n",
    "    an assignment, with the intention of changing a character in a string. For example, in the following code, \n",
    "    we would like to change the first letter of greeting."
   ]
  },
  {
   "cell_type": "code",
   "execution_count": 1,
   "id": "e64f7a28",
   "metadata": {},
   "outputs": [
    {
     "ename": "TypeError",
     "evalue": "'str' object does not support item assignment",
     "output_type": "error",
     "traceback": [
      "\u001b[1;31m---------------------------------------------------------------------------\u001b[0m",
      "\u001b[1;31mTypeError\u001b[0m                                 Traceback (most recent call last)",
      "Input \u001b[1;32mIn [1]\u001b[0m, in \u001b[0;36m<cell line: 2>\u001b[1;34m()\u001b[0m\n\u001b[0;32m      1\u001b[0m greeting \u001b[38;5;241m=\u001b[39m \u001b[38;5;124m\"\u001b[39m\u001b[38;5;124mHello, world!\u001b[39m\u001b[38;5;124m\"\u001b[39m\n\u001b[1;32m----> 2\u001b[0m greeting[\u001b[38;5;241m0\u001b[39m] \u001b[38;5;241m=\u001b[39m \u001b[38;5;124m'\u001b[39m\u001b[38;5;124mJ\u001b[39m\u001b[38;5;124m'\u001b[39m            \u001b[38;5;66;03m# ERROR!\u001b[39;00m\n\u001b[0;32m      3\u001b[0m \u001b[38;5;28mprint\u001b[39m(greeting)\n",
      "\u001b[1;31mTypeError\u001b[0m: 'str' object does not support item assignment"
     ]
    }
   ],
   "source": [
    "greeting = \"Hello, world!\"\n",
    "greeting[0] = 'J'            # ERROR!\n",
    "print(greeting)"
   ]
  },
  {
   "cell_type": "markdown",
   "id": "a4a68b17",
   "metadata": {},
   "source": [
    "    Instead of producing the output Jello, world!, this code produces the runtime error TypeError: 'str' object does \n",
    "    not support item assignment.\n",
    "\n",
    "    Strings are immutable, which means you cannot change an existing string. The best you can do is create a new string\n",
    "    that is a variation on the original."
   ]
  },
  {
   "cell_type": "markdown",
   "id": "0ba279b8",
   "metadata": {},
   "source": [
    "# Q2. Does using the += operator to concatenate strings violate Python's string immutability? Why or why not ?"
   ]
  },
  {
   "cell_type": "markdown",
   "id": "c6174e21",
   "metadata": {},
   "source": [
    "Answer:\n",
    "    \n",
    "    += operator is used to concatenate strings, it does not violate Python’s string immutability Property. Because \n",
    "    doing so new creates a new association with data and variable. "
   ]
  },
  {
   "cell_type": "code",
   "execution_count": 3,
   "id": "33296066",
   "metadata": {},
   "outputs": [
    {
     "name": "stdout",
     "output_type": "stream",
     "text": [
      "new generation\n"
     ]
    }
   ],
   "source": [
    "a = 'new'\n",
    "b = ' generation'\n",
    "\n",
    "c = a + b\n",
    "print(c)"
   ]
  },
  {
   "cell_type": "code",
   "execution_count": 6,
   "id": "5bd24609",
   "metadata": {},
   "outputs": [
    {
     "name": "stdout",
     "output_type": "stream",
     "text": [
      "we are liars, as well as truth\n"
     ]
    }
   ],
   "source": [
    "msg = 'we are'\n",
    "\n",
    "msg += ' liars,'\n",
    "msg += ' as well as truth'\n",
    "\n",
    "print(msg)"
   ]
  },
  {
   "cell_type": "markdown",
   "id": "1e6416e3",
   "metadata": {},
   "source": [
    "# Q3. In Python, how many different ways are there to index a character?"
   ]
  },
  {
   "cell_type": "markdown",
   "id": "a66332de",
   "metadata": {},
   "source": [
    "Answer:\n",
    "    \n",
    "    A Character in string can be indexed using string name followed by index number of character in square bracket. \n",
    "    Positive Indexing i.e. first index is 0 an so on, or Negative Indexing i.e. last letter is -1 and so on can be\n",
    "    used to index a character"
   ]
  },
  {
   "cell_type": "code",
   "execution_count": 10,
   "id": "0699ab6b",
   "metadata": {},
   "outputs": [
    {
     "name": "stdout",
     "output_type": "stream",
     "text": [
      "l l  \n",
      "s d t\n"
     ]
    }
   ],
   "source": [
    "str = \"We were all iNeuron Full Stack Data Science students\"\n",
    "print(str[9],str[10],str[2]) # Positive Indexing\n",
    "print(str[-1],str[-5],str[-2]) # Negative Indexing\n"
   ]
  },
  {
   "cell_type": "markdown",
   "id": "b64a4723",
   "metadata": {},
   "source": [
    "# Q4. What is the relationship between indexing and slicing?"
   ]
  },
  {
   "cell_type": "markdown",
   "id": "c472fa16",
   "metadata": {},
   "source": [
    "Answer:\n",
    "    \n",
    "    Slices and indexes can be used to access elements of sequence datatypes. When slicing for a sequence of elements,\n",
    "    indexing is employed to acquire each individual element."
   ]
  },
  {
   "cell_type": "code",
   "execution_count": 13,
   "id": "67b52962",
   "metadata": {},
   "outputs": [
    {
     "name": "stdout",
     "output_type": "stream",
     "text": [
      "l l  \n",
      "We were all iNeu\n"
     ]
    }
   ],
   "source": [
    "str = \"We were all iNeuron Full Stack Data Science students\"\n",
    "print(str[9],str[10],str[2]) #Indexing\n",
    "print(str[0:16]) # Negative Indexing\n"
   ]
  },
  {
   "cell_type": "markdown",
   "id": "12237d78",
   "metadata": {},
   "source": [
    "# Q5. What is an indexed character's exact data type? What is the data form of a slicing-generated substring?"
   ]
  },
  {
   "cell_type": "markdown",
   "id": "8668b604",
   "metadata": {},
   "source": [
    "Answer:\n",
    "    \n",
    "    An indexed character is represented as a string data type, and each character within the string is \n",
    "    also represented as a string data type. For example, the string \"hello\" can be represented as a sequence of \n",
    "    indexed characters, where each character is a string: \"h\", \"e\", \"l\", \"l\", \"o\".\n",
    "\n",
    "    When a string is sliced in Python, the resulting substring is also represented as a string data type. For example,\n",
    "    if we slice the string \"hello\" using the syntax \"hello\"[1:4], the resulting substring \"ell\" is also represented \n",
    "    as a string.\n",
    "\n",
    "\n",
    "\n"
   ]
  },
  {
   "cell_type": "code",
   "execution_count": 14,
   "id": "ca665d04",
   "metadata": {},
   "outputs": [
    {
     "name": "stdout",
     "output_type": "stream",
     "text": [
      "<class 'str'>\n",
      "<class 'str'>\n"
     ]
    }
   ],
   "source": [
    "str = \"iNeuron Full Stack Data Science\"\n",
    "print(type(str[3])) # Indexing -> str\n",
    "print(type(str[1:10])) # Indexing -> str"
   ]
  },
  {
   "cell_type": "markdown",
   "id": "7e6be8e2",
   "metadata": {},
   "source": [
    "# Q6. What is the relationship between string and character &quot;types&quot; in Python?"
   ]
  },
  {
   "cell_type": "markdown",
   "id": "d5bfdad8",
   "metadata": {},
   "source": [
    "Answer:\n",
    "    \n",
    "    In Python, a string is a sequence of characters. This means that each element of a string is a character. \n",
    "    Therefore, the \"type\" of a string in Python is simply a sequence of characters.\n",
    "\n",
    "    In Python, a character is represented by a string of length 1. For example, the character 'a' is a string of \n",
    "    length 1. Therefore, you can create a string that contains only one character by enclosing that character in \n",
    "    quotes, like this:"
   ]
  },
  {
   "cell_type": "code",
   "execution_count": 15,
   "id": "ed8fed4c",
   "metadata": {},
   "outputs": [],
   "source": [
    "my_char = 'a'\n"
   ]
  },
  {
   "cell_type": "markdown",
   "id": "346ebb6a",
   "metadata": {},
   "source": [
    "    You can access individual characters in a string using indexing. The first character in a string has an index of 0,\n",
    "    the second character has an index of 1, and so on. For example, to access the first character of a string, you can \n",
    "    use the following code:"
   ]
  },
  {
   "cell_type": "code",
   "execution_count": 16,
   "id": "a7d0f177",
   "metadata": {},
   "outputs": [],
   "source": [
    "my_string = \"hello\"\n",
    "first_char = my_string[0]\n"
   ]
  },
  {
   "cell_type": "markdown",
   "id": "0140445c",
   "metadata": {},
   "source": [
    "    In this example, the variable first_char will be set to the character 'h'.\n",
    "\n",
    "    So, in summary, a string is a sequence of characters in Python, and a character is simply a string of length 1.\n",
    "    You can access individual characters in a string using indexing."
   ]
  },
  {
   "cell_type": "markdown",
   "id": "40018d55",
   "metadata": {},
   "source": [
    "# Q7. Identify at least two operators and one method that allow you to combine one or more smaller strings to create a larger string."
   ]
  },
  {
   "cell_type": "markdown",
   "id": "29480a00",
   "metadata": {},
   "source": [
    "Answer:\n",
    "    \n",
    "    There are several operators and methods that allow you to combine smaller strings to create a larger string.\n",
    "    Here are two common operators and one method:\n",
    "    \n",
    "    \"+\" and \"*\"\n",
    "\n",
    "    (a). The + operator: You can use the + operator to concatenate two or more strings together. For example:"
   ]
  },
  {
   "cell_type": "code",
   "execution_count": 17,
   "id": "0d27717f",
   "metadata": {},
   "outputs": [
    {
     "name": "stdout",
     "output_type": "stream",
     "text": [
      "Hello world\n"
     ]
    }
   ],
   "source": [
    "string1 = \"Hello\"\n",
    "string2 = \"world\"\n",
    "result_string = string1 + \" \" + string2\n",
    "print(result_string)\n"
   ]
  },
  {
   "cell_type": "markdown",
   "id": "2c97385c",
   "metadata": {},
   "source": [
    "    (b). The * operator: You can use the * operator to repeat a string multiple times. For example:"
   ]
  },
  {
   "cell_type": "code",
   "execution_count": 18,
   "id": "d96042b3",
   "metadata": {},
   "outputs": [
    {
     "name": "stdout",
     "output_type": "stream",
     "text": [
      "hahahahaha\n"
     ]
    }
   ],
   "source": [
    "string = \"ha\"\n",
    "result_string = string * 5\n",
    "print(result_string)\n"
   ]
  },
  {
   "cell_type": "markdown",
   "id": "0c567448",
   "metadata": {},
   "source": [
    "# Q8. What is the benefit of first checking the target string with in or not in before using the index method to find a substring?"
   ]
  },
  {
   "cell_type": "markdown",
   "id": "2bd79b11",
   "metadata": {},
   "source": [
    "Answer:\n",
    "    \n",
    "    Checking the target string with \"in\" or \"not\" Operators before using the index method to find a substring just helps \n",
    "    confirming availability of substring and thus avoid raising of ValueError."
   ]
  },
  {
   "cell_type": "markdown",
   "id": "92e8e8bc",
   "metadata": {},
   "source": [
    "    Using the in or not in operator to check if a substring exists within a string before using the index() method \n",
    "    to find the position of the substring can have several benefits:\n",
    "\n",
    "    Error handling: The index() method raises a ValueError exception if the substring is not found in the string. \n",
    "    By using the in or not in operator first, you can avoid this error and handle the case where the substring is not found in the string in a more graceful way.\n",
    "\n",
    "    Efficiency: The in or not in operator is generally faster than the index() method for checking whether a substring \n",
    "    exists in a string. This is because the in or not in operator can stop searching as soon as it finds a match, while the index() method needs to search the entire string even if it finds a match early on.\n",
    "\n",
    "    Readability: Using the in or not in operator first can make your code more readable and easier to understand.\n",
    "    It makes it clear that you are checking if the substring exists in the string before trying to find its position.\n",
    "\n",
    "   Here's an example of how you might use the in operator to check if a substring exists in a string before using the \n",
    "   index() method to find its position:"
   ]
  },
  {
   "cell_type": "code",
   "execution_count": 21,
   "id": "a59f98ff",
   "metadata": {},
   "outputs": [
    {
     "name": "stdout",
     "output_type": "stream",
     "text": [
      "The substring 'world' was found at index 6\n"
     ]
    }
   ],
   "source": [
    "my_string = \"hello world\"\n",
    "if \"world\" in my_string:\n",
    "    index = my_string.index(\"world\")\n",
    "    print(f\"The substring 'world' was found at index {index}\")\n",
    "else:\n",
    "    print(\"The substring 'world' was not found in the string\")\n"
   ]
  },
  {
   "cell_type": "markdown",
   "id": "7e65f3fb",
   "metadata": {},
   "source": [
    "    In this example, we first check if the substring \"world\" exists in the string using the in operator. If it does, \n",
    "    we then use the index() method to find its position. If it doesn't, we print a message indicating that the substring\n",
    "    was not found."
   ]
  },
  {
   "cell_type": "markdown",
   "id": "f24626c1",
   "metadata": {},
   "source": [
    "# Q9. Which operators and built-in string methods produce simple Boolean (true/false) results?"
   ]
  },
  {
   "cell_type": "markdown",
   "id": "17424525",
   "metadata": {},
   "source": [
    "Answer:\n",
    "    \n",
    "    There are several operators and built-in string methods in Python that produce simple Boolean (true/false) results. Here are a few common ones:\n",
    "    \n",
    "    Operators:\n",
    "\n",
    "   ==: The equality operator returns True if two values are equal and False otherwise. For example, \"hello\" == \"hello\" \n",
    "    returns True, while \"hello\" == \"world\" returns False.\n",
    "    \n",
    "   !=: The inequality operator returns True if two values are not equal and False otherwise. For example, \n",
    "    \"hello\" != \"hello\" returns False, while \"hello\" != \"world\" returns True.\n",
    "    \n",
    "   <, >, <=, >=: Comparison operators return True if a comparison is true and False otherwise. For example, \n",
    "    \"hello\" < \"world\" returns True, while \"hello\" > \"world\" returns False.\n",
    "    \n",
    "    Built-in string methods:\n",
    "\n",
    "   startswith(): This method returns True if a string starts with a given substring, and False otherwise. \n",
    "    For example, \"hello world\".startswith(\"hello\") returns True.\n",
    "    \n",
    "   endswith(): This method returns True if a string ends with a given substring, and False otherwise. \n",
    "    For example, \"hello world\".endswith(\"world\") returns True.\n",
    "    \n",
    "   isalnum(): This method returns True if a string contains only alphanumeric characters (letters and numbers), \n",
    "    and False otherwise. For example, \"hello123\".isalnum() returns True, while \"hello 123\".isalnum() returns False.\n",
    "    \n",
    "   isdigit(): This method returns True if a string contains only digits, and False otherwise. \n",
    "    For example, \"123\".isdigit() returns True, while \"hello123\".isdigit() returns False.\n",
    "    \n",
    "   islower(): This method returns True if a string contains only lowercase letters, and `False"
   ]
  }
 ],
 "metadata": {
  "kernelspec": {
   "display_name": "Python 3 (ipykernel)",
   "language": "python",
   "name": "python3"
  },
  "language_info": {
   "codemirror_mode": {
    "name": "ipython",
    "version": 3
   },
   "file_extension": ".py",
   "mimetype": "text/x-python",
   "name": "python",
   "nbconvert_exporter": "python",
   "pygments_lexer": "ipython3",
   "version": "3.9.12"
  }
 },
 "nbformat": 4,
 "nbformat_minor": 5
}
