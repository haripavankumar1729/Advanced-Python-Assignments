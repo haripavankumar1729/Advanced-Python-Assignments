{
 "cells": [
  {
   "cell_type": "markdown",
   "id": "e66bdd60",
   "metadata": {},
   "source": [
    "# 1. What is the concept of an abstract superclass?"
   ]
  },
  {
   "cell_type": "markdown",
   "id": "02b485d7",
   "metadata": {},
   "source": [
    "Answer:\n",
    "    \n",
    "   In Python, an abstract superclass is a class that is intended to be subclassed but never instantiated. It provides a blueprint for its subclasses, defining a set of methods and attributes that they must implement. An abstract superclass is also known as an abstract base class (ABC) in Python.\n",
    "\n",
    "To define an abstract superclass in Python, you can make use of the built-in module called abc (Abstract Base Classes). The abc module provides a base class called ABC which is used as a superclass for all other abstract base classes.\n",
    "\n",
    "To define an abstract superclass, you need to inherit from the ABC class and decorate any methods that should be abstract with the @abstractmethod decorator. This decorator indicates that the method must be overridden by any subclasses."
   ]
  },
  {
   "cell_type": "code",
   "execution_count": 2,
   "id": "d69d593f",
   "metadata": {},
   "outputs": [],
   "source": [
    "from abc import ABC, abstractmethod\n",
    "class Polygon(ABC): # Abstract Class\n",
    "    @abstractmethod\n",
    "    def num_of_sides(self): # Abstract Method\n",
    "        pass\n",
    "class Triangle(Polygon):\n",
    "    def num_of_sides(self):  # overriding abstract method in child class Triangle\n",
    "        print(\"I have 3 sides\")\n",
    "class Pentagon(Polygon):\n",
    "    def num_of_sides(self): # overriding abstract method in child class Pentagon\n",
    "        print(\"I have 5 sides\")"
   ]
  },
  {
   "cell_type": "code",
   "execution_count": 4,
   "id": "7700f750",
   "metadata": {},
   "outputs": [
    {
     "name": "stdout",
     "output_type": "stream",
     "text": [
      "I have 3 sides\n",
      "I have 5 sides\n"
     ]
    }
   ],
   "source": [
    "R = Triangle()\n",
    "R.num_of_sides()\n",
    "  \n",
    "R = Pentagon()\n",
    "R.num_of_sides()\n",
    " "
   ]
  },
  {
   "cell_type": "markdown",
   "id": "f11783a4",
   "metadata": {},
   "source": [
    "# 2. What happens when a class statement&#39;s top level contains a basic assignment statement?"
   ]
  },
  {
   "cell_type": "markdown",
   "id": "405f4898",
   "metadata": {},
   "source": [
    "When a class statement's top level contains a basic assignment statement, it creates a class variable that is shared by all instances of the class. Class variables are also sometimes referred to as static variables.\n",
    "\n",
    "Here's an example to illustrate this:"
   ]
  },
  {
   "cell_type": "code",
   "execution_count": 5,
   "id": "029743ef",
   "metadata": {},
   "outputs": [
    {
     "name": "stdout",
     "output_type": "stream",
     "text": [
      "0\n",
      "0\n"
     ]
    }
   ],
   "source": [
    "class cals:\n",
    "    x = 0 # class variable\n",
    "\n",
    "    def __init__(self, y):\n",
    "        self.y = y # instance variable\n",
    "\n",
    "obj1 = cals(10)\n",
    "obj2 = cals(20)\n",
    "\n",
    "print(obj1.x) \n",
    "print(obj2.x) "
   ]
  },
  {
   "cell_type": "code",
   "execution_count": 6,
   "id": "1ccbb50b",
   "metadata": {},
   "outputs": [],
   "source": [
    "cals.x = 7"
   ]
  },
  {
   "cell_type": "code",
   "execution_count": 7,
   "id": "822d9f8a",
   "metadata": {},
   "outputs": [
    {
     "name": "stdout",
     "output_type": "stream",
     "text": [
      "7\n",
      "7\n"
     ]
    }
   ],
   "source": [
    "print(obj1.x)\n",
    "print(obj2.x)"
   ]
  },
  {
   "cell_type": "markdown",
   "id": "98ea8179",
   "metadata": {},
   "source": [
    "    In this example, we have a class called cls that has a class variable called x initialized to 0. We also have an \n",
    "    __init__ method that initializes an instance variable called y with the value passed as an argument.\n",
    "\n",
    "    When we create two objects of the cls class (obj1 and obj2), they both have the same value for the class variable x, \n",
    "    which is 0.\n",
    "\n",
    "    After changing the value of cls.x to 5, the value of x for both obj1 and obj2 changes to 5 as well. This is because x is a class variable, and changing its value affects all instances of the class.\n",
    "\n",
    "    It's important to note that class variables are shared by all instances of the class and are not tied to a specific             instance. If you want to create a variable that is tied to a specific instance, you should define an instance variable           instead, as shown in the example above with the y variable."
   ]
  },
  {
   "cell_type": "markdown",
   "id": "6b3c41b7",
   "metadata": {},
   "source": [
    "# 3. Why does a class need to manually call a superclass&#39;s __init__ method?"
   ]
  },
  {
   "cell_type": "markdown",
   "id": "5d4bc5d3",
   "metadata": {},
   "source": [
    "Answer:\n",
    "\n",
    "     if a child class has __init__ method, then it will not inherit the __init__ method of the parent class. in other words the __init__ method of the child class overrides the __init__ method of the parent class. so we have to manually call a parent superclass's __init__ using super() method"
   ]
  },
  {
   "cell_type": "code",
   "execution_count": 3,
   "id": "2a8635ec",
   "metadata": {},
   "outputs": [],
   "source": [
    "class Person:\n",
    "    def __init__(self,name,age):\n",
    "        self.name = name\n",
    "        self.age = age       \n",
    "class Employee(Person):\n",
    "    def __init__(self,name,age,salary):\n",
    "        super().__init__(name,age)\n",
    "        self.salary = salary\n"
   ]
  },
  {
   "cell_type": "code",
   "execution_count": 5,
   "id": "f6a93747",
   "metadata": {},
   "outputs": [
    {
     "name": "stdout",
     "output_type": "stream",
     "text": [
      "{'name': 'Hari', 'age': 25, 'salary': 1000000}\n"
     ]
    }
   ],
   "source": [
    "emp_1 = Employee('Hari',25,1000000)\n",
    "print(emp_1.__dict__)"
   ]
  },
  {
   "cell_type": "markdown",
   "id": "401a1edf",
   "metadata": {},
   "source": [
    "# 4. How can you augment, instead of completely replacing, an inherited method?"
   ]
  },
  {
   "cell_type": "markdown",
   "id": "b764b28a",
   "metadata": {},
   "source": [
    "Answer:\n",
    "    \n",
    "    super() method can be used to augment, instead of completely replacing, an inherited method.\n",
    "    \n",
    "    When a subclass inherits a method from its superclass, it can choose to override the method with its own implementation, or it can augment the inherited method by calling the superclass's implementation using super(). This is known as method chaining or method overriding.\n",
    "\n",
    "    Here's an example to illustrate the concept:"
   ]
  },
  {
   "cell_type": "code",
   "execution_count": 7,
   "id": "ec88cc7f",
   "metadata": {},
   "outputs": [
    {
     "name": "stdout",
     "output_type": "stream",
     "text": [
      "Generic animal sound\n",
      "Bark\n"
     ]
    }
   ],
   "source": [
    "class Animal:\n",
    "    def make_sound(self):\n",
    "        print(\"Generic animal sound\")\n",
    "\n",
    "class Dog(Animal):\n",
    "    def make_sound(self):\n",
    "        super().make_sound()\n",
    "        print(\"Bark\")\n",
    "\n",
    "my_dog = Dog()\n",
    "my_dog.make_sound() \n"
   ]
  },
  {
   "cell_type": "markdown",
   "id": "a0fa3712",
   "metadata": {},
   "source": [
    "    In this example, the Animal class has a make_sound() method that prints a generic animal sound. The Dog class inherits \n",
    "    this method but augments it by first calling the superclass's implementation using super().make_sound() and then \n",
    "    printing the sound for a dog.\n",
    "\n",
    "    When the make_sound() method is called on an instance of Dog, it first calls the Animal implementation of make_sound(), which prints \"Generic animal sound\", and then it prints \"Bark\".\n",
    "\n",
    "    This approach is useful when the subclass wants to extend or modify the behavior of an inherited method without \n",
    "    completely replacing it. By chaining the superclass's implementation using super(), the subclass can reuse existing code and     avoid duplicating functionality."
   ]
  },
  {
   "cell_type": "markdown",
   "id": "edf4bfa1",
   "metadata": {},
   "source": [
    "# 5. How is the local scope of a class different from that of a function?"
   ]
  },
  {
   "cell_type": "markdown",
   "id": "55c1df7b",
   "metadata": {},
   "source": [
    "Answer:\n",
    "    \n",
    "    A Variable which is defined inside a function is local to that function. it is accesible from the point at which it is           defined until the end of the function, and exists for as long as the function is existing.\n",
    "\n",
    "    Similary a variable inside of a class also has a local variable scope. Variables which are defined in the class body \n",
    "    (but outside all methods) are called as class level variables or class attributes. they can be referenced by there bare names within the same scope, but they can also be accessed from outside this scope if we use the attribute access operator (.). on a class or an instance of the class."
   ]
  },
  {
   "cell_type": "code",
   "execution_count": 10,
   "id": "23489c96",
   "metadata": {},
   "outputs": [
    {
     "name": "stdout",
     "output_type": "stream",
     "text": [
      "you're name is Hari Pavan\n",
      "Name varible is not available outside hello function scope\n",
      "Social Animal\n",
      "Social Animal\n"
     ]
    }
   ],
   "source": [
    "def hello(name):\n",
    "    name = name\n",
    "    print(f'you\\'re name is {name}')\n",
    "hello('Hari Pavan')\n",
    "try:\n",
    "    name\n",
    "except NameError:\n",
    "    print('Name varible is not available outside hello function scope')\n",
    "\n",
    "class Person:\n",
    "    species = \"Social Animal\"\n",
    "    def __init__(self):\n",
    "        pass\n",
    "print(Person.species) # Accessing species using class name\n",
    "Male = Person()\n",
    "print(Male.species) # Accessing species using instance of class"
   ]
  }
 ],
 "metadata": {
  "kernelspec": {
   "display_name": "Python 3 (ipykernel)",
   "language": "python",
   "name": "python3"
  },
  "language_info": {
   "codemirror_mode": {
    "name": "ipython",
    "version": 3
   },
   "file_extension": ".py",
   "mimetype": "text/x-python",
   "name": "python",
   "nbconvert_exporter": "python",
   "pygments_lexer": "ipython3",
   "version": "3.9.12"
  }
 },
 "nbformat": 4,
 "nbformat_minor": 5
}
