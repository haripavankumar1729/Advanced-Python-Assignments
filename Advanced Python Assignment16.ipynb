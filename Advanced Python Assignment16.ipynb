{
 "cells": [
  {
   "cell_type": "markdown",
   "id": "236e5316",
   "metadata": {},
   "source": [
    "# Q1. What is the benefit of regular expressions?"
   ]
  },
  {
   "cell_type": "markdown",
   "id": "0e667b91",
   "metadata": {},
   "source": [
    "Answer:\n",
    "    \n",
    "    Regular expressions (also known as regex or regexp) provide a powerful and flexible way to search, match, and \n",
    "    manipulate text in Python.\n",
    "    \n",
    "    A Regular Expression is used for identifying a search pattern in a text string. It also helps in finding out the \n",
    "    correctness of the data and even operations such as finding, replacing and formatting the data is possible using\n",
    "    Regular Expressions.\n",
    "    \n",
    "    They weere are used to match strings of text such as particular characters, words, or patterns of characters. \n",
    "    It means that we can match and extract any string pattern from the text with the help of regular expressions."
   ]
  },
  {
   "cell_type": "markdown",
   "id": "e38778b8",
   "metadata": {},
   "source": [
    "# Q2. Describe the difference between the effects of &quot;(ab)c+&quot; and &quot;a(bc)+.&quot; Which of these, if any, is the unqualified pattern &quot;abc+&quot;?"
   ]
  },
  {
   "cell_type": "markdown",
   "id": "a9ea0d27",
   "metadata": {},
   "source": [
    "Answer:\n",
    "    \n",
    "    Both \"(ab)c+\" and \"a(bc)+\" are regular expressions that represent patterns in strings.\n",
    "\n",
    "    \"(ab)c+\" matches strings that start with the letters 'ab' followed by one or more occurrences of the letter 'c'. \n",
    "    For example, it would match the strings \"abc\", \"abcc\", \"abccc\", and so on, but would not match the string \"ac\" or \"ab\".\n",
    "\n",
    "    On the other hand, \"a(bc)+\" matches strings that start with the letter 'a' followed by one or more occurrences of the \n",
    "    string 'bc'. For example, it would match the strings \"abc\", \"abcbc\", \"abcbcbc\", and so on, but would not match the \n",
    "    string \"ac\" or \"ab\".\n",
    "\n",
    "    The unqualified pattern \"abc+\" in Python matches strings that contain the characters 'a', 'b', and 'c' in sequence,\n",
    "    with one or more occurrences of the letter 'c'. So, it would match the strings \"abc\", \"abcc\", \"abccc\", and so on,\n",
    "    but would not match the string \"ac\" or \"ab\"."
   ]
  },
  {
   "cell_type": "markdown",
   "id": "d15f2d96",
   "metadata": {},
   "source": [
    "# Q3. How much do you need to use the following sentence while using regular expressions?\n",
    "\n",
    "import re"
   ]
  },
  {
   "cell_type": "markdown",
   "id": "a845c274",
   "metadata": {},
   "source": [
    "Answer:\n",
    "    \n",
    "    The sentence \"import re\" is required to use regular expressions, as the \"re\" module provides support \n",
    "    for regular expressions. Without importing this module, you will not be able to use regular expressions in your\n",
    "    code. So, it is essential to include this statement at the beginning of any code that involves regular expressions\n",
    "    "
   ]
  },
  {
   "cell_type": "markdown",
   "id": "0872b641",
   "metadata": {},
   "source": [
    "# Q4. Which characters have special significance in square brackets when expressing a range, and under what circumstances?"
   ]
  },
  {
   "cell_type": "markdown",
   "id": "3830494a",
   "metadata": {},
   "source": [
    "Answer:\n",
    "    \n",
    "    In regular expressions, square brackets are used to define a character class, which matches any single character \n",
    "    that is listed inside the brackets.\n",
    "\n",
    "    When specifying a range of characters inside square brackets, the following characters have special significance:\n",
    "    .,-,*,?,^,or,()\n",
    "    \n",
    "    It is important to note that if you want to match a literal hyphen character or backslash character inside square\n",
    "    brackets, you can either escape them with a backslash or place them at the beginning or end of the character class."
   ]
  },
  {
   "cell_type": "markdown",
   "id": "7ca079cc",
   "metadata": {},
   "source": [
    "# Q5. How does compiling a regular-expression object benefit you?"
   ]
  },
  {
   "cell_type": "markdown",
   "id": "b8b868a6",
   "metadata": {},
   "source": [
    "Answer:\n",
    "    \n",
    "    The re.compile() method can combine a regular expression pattern into pattern objects, which can be used for \n",
    "    pattern matching. It also helps to search a pattern again without rewriting it.\n",
    "\n",
    "    In simple terms, We can compile a regular expression into a regex object to look for occurrences of the same pattern\n",
    "    inside various target strings without rewriting it."
   ]
  },
  {
   "cell_type": "markdown",
   "id": "7c197ba7",
   "metadata": {},
   "source": [
    "# Q6. What are some examples of how to use the match object returned by re.match and re.search?"
   ]
  },
  {
   "cell_type": "markdown",
   "id": "ffec9344",
   "metadata": {},
   "source": [
    "Answer:\n",
    "\n",
    "    The re.search() and re.match() both are functions of re module in python. These functions are very efficient and\n",
    "    fast for searching in strings. The function searches for some substring in a string and returns a match object if\n",
    "    found, else it returns none.\n",
    "\n",
    "    There is a difference between the use of both functions. Both return the first match of a substring found in the \n",
    "    string, but re.match() searches only from the beginning of the string and return match object if found. But if a\n",
    "    match of substring is found somewhere in the middle of the string, it returns none. While re.search() searches for\n",
    "    the whole string even if the string contains multi-lines and tries to find a match of the substring in all the lines\n",
    "    of string."
   ]
  },
  {
   "cell_type": "code",
   "execution_count": 3,
   "id": "4e012cde",
   "metadata": {},
   "outputs": [
    {
     "name": "stdout",
     "output_type": "stream",
     "text": [
      "<re.Match object; span=(69, 75), match='string'>\n",
      "None\n",
      "<re.Match object; span=(0, 6), match='string'>\n",
      "<re.Match object; span=(0, 6), match='string'>\n"
     ]
    }
   ],
   "source": [
    "#Example : \n",
    "# import re module\n",
    "import re\n",
    "Substring ='string'\n",
    "\n",
    "String1 ='''We are learning regex with ineuron\n",
    "         regex is very useful for string matching.\n",
    "          It is fast too.'''\n",
    "String2 ='''string We are learning regex with ineuron\n",
    "         regex is very useful for string matching.\n",
    "          It is fast too.'''\n",
    " \n",
    "# Use of re.search() Method\n",
    "print(re.search(Substring, String1, re.IGNORECASE))\n",
    "# Use of re.match() Method\n",
    "print(re.match(Substring, String1, re.IGNORECASE))\n",
    " \n",
    "# Use of re.search() Method\n",
    "print(re.search(Substring, String2, re.IGNORECASE))\n",
    "# Use of re.match() Method\n",
    "print(re.match(Substring, String2, re.IGNORECASE))"
   ]
  },
  {
   "cell_type": "markdown",
   "id": "e872bbc7",
   "metadata": {},
   "source": [
    "# Q7. What is the difference between using a vertical bar (|) as an alteration and using square brackets as a character set?"
   ]
  },
  {
   "cell_type": "markdown",
   "id": "12152086",
   "metadata": {},
   "source": [
    "Answer:\n",
    "    \n",
    "    \n",
    "    The vertical bar (|) and square brackets [] are both used in regular expressions for pattern matching, but they\n",
    "    serve different purposes:\n",
    "\n",
    "    Vertical bar (|) as an alteration: The vertical bar is used in regular expressions to specify a set of alternatives\n",
    "    for the pattern. It matches any one of the patterns separated by the vertical bar. For example, the regular \n",
    "    expression \"cat|dog\" matches either \"cat\" or \"dog\". This is useful when you want to match multiple patterns,\n",
    "    but don't want to use a separate regular expression for each pattern.\n",
    "\n",
    "    Square brackets [] as a character set: Square brackets are used in regular expressions to specify a set of \n",
    "    characters that can be matched. For example, the regular expression \"[abc]\" matches any single character that\n",
    "    is either \"a\", \"b\", or \"c\". This is useful when you want to match a specific set of characters, but not any \n",
    "    other characters.\n",
    "\n",
    "    In summary, the vertical bar is used to specify alternatives, while square brackets are used to specify a set of\n",
    "    characters. The vertical bar is useful when you want to match one of several patterns, while square brackets are\n",
    "    useful when you want to match a specific set of character"
   ]
  },
  {
   "cell_type": "markdown",
   "id": "012018bd",
   "metadata": {},
   "source": [
    "# Q8. In regular-expression search patterns, why is it necessary to use the raw-string indicator (r)? In  replacement strings?"
   ]
  },
  {
   "cell_type": "markdown",
   "id": "9d3a5c92",
   "metadata": {},
   "source": [
    "Answer:\n",
    "    \n",
    "       In regular- expression search patterns it is nesessary to use the raw string indicator, because regular \n",
    "       expressions are frequently static strings, which are conveniently represented as string literals. And from the\n",
    "       different string literal notations available, raw strings are a convenient choice, when the regular expression \n",
    "       includes a backslash character.\n",
    "\n",
    "       In Python, strings prefixed with r or R , such as r'...' and r\"...\" , are called raw strings and treat \n",
    "       backslashes \\ as literal characters. Raw strings are useful when handling with strings that use a lot of\n",
    "       backslashes, such as Windows paths and regular expression patterns."
   ]
  }
 ],
 "metadata": {
  "kernelspec": {
   "display_name": "Python 3 (ipykernel)",
   "language": "python",
   "name": "python3"
  },
  "language_info": {
   "codemirror_mode": {
    "name": "ipython",
    "version": 3
   },
   "file_extension": ".py",
   "mimetype": "text/x-python",
   "name": "python",
   "nbconvert_exporter": "python",
   "pygments_lexer": "ipython3",
   "version": "3.9.12"
  }
 },
 "nbformat": 4,
 "nbformat_minor": 5
}
