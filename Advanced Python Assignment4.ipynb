{
 "cells": [
  {
   "cell_type": "markdown",
   "id": "ccb5a68a",
   "metadata": {},
   "source": [
    "# Q1. Which two operator overloading methods can you use in your classes to support iteration?"
   ]
  },
  {
   "cell_type": "markdown",
   "id": "95c14f6f",
   "metadata": {},
   "source": [
    "Answer:\n",
    "\n",
    "    To support iteration in Python, you can use the following two operator overloading methods in your classes:\n",
    "    \n",
    "    . __iter__ and __next__ \n",
    "\n",
    "    . __iter__ returns the iterator object and is called at the start of loop in our respective class.\n",
    "    \n",
    "    . __next__ is called at each loop increment, it returns the incremented value. Also Stopiteration is raised when there\n",
    "    is no value to return.\n",
    "    "
   ]
  },
  {
   "cell_type": "code",
   "execution_count": 1,
   "id": "4205c5fe",
   "metadata": {},
   "outputs": [
    {
     "name": "stdout",
     "output_type": "stream",
     "text": [
      "5 6 7 8 9 10 11 12 13 14 15 "
     ]
    }
   ],
   "source": [
    "class Counter:\n",
    "    def __init__(self,low,high):\n",
    "        self.current = low\n",
    "        self.high = high\n",
    "    def __iter__(self):\n",
    "        return self\n",
    "    def __next__(self):\n",
    "        if self.current > self.high:\n",
    "            raise StopIteration\n",
    "        else:\n",
    "            self.current += 1\n",
    "            return self.current - 1\n",
    "for ele in Counter(5,15):\n",
    "    print(ele, end=\" \")"
   ]
  },
  {
   "cell_type": "markdown",
   "id": "5004dd29",
   "metadata": {},
   "source": [
    "# Q2. In what contexts do the two operator overloading methods manage printing?"
   ]
  },
  {
   "cell_type": "markdown",
   "id": "b4676b02",
   "metadata": {},
   "source": [
    "Answer:\n"
   ]
  },
  {
   "cell_type": "code",
   "execution_count": 3,
   "id": "888ee176",
   "metadata": {},
   "outputs": [
    {
     "name": "stdout",
     "output_type": "stream",
     "text": [
      "<__main__.Student object at 0x00000236019FF340>\n",
      "Student Name: Hari and Roll No: 1\n",
      "2023-03-14 23:44:15.526961\n",
      "Unable to convert back to original object\n",
      "datetime.datetime(2023, 3, 14, 23, 44, 15, 526961)\n",
      "2023-03-14 23:44:15.526961\n"
     ]
    }
   ],
   "source": [
    "class Student:\n",
    "    def __init__(self,name,roll_no):\n",
    "        self.name = name\n",
    "        self.roll_no = roll_no\n",
    "        \n",
    "s1 = Student(\"Hari\",1)\n",
    "print(str(s1))\n",
    "\n",
    "class Student:\n",
    "    def __init__(self,name,roll_no):\n",
    "        self.name = name\n",
    "        self.roll_no = roll_no\n",
    "    def __str__(self):\n",
    "        return f'Student Name: {self.name} and Roll No: {self.roll_no}'\n",
    "    \n",
    "s1 = Student(\"Hari\",1)\n",
    "print(str(s1))\n",
    "\n",
    "import datetime\n",
    "today = datetime.datetime.now()\n",
    "\n",
    "s = str(today) # converting datetime object to presentable str\n",
    "print(s)\n",
    "try: d = eval(s) # converting str back to datetime object\n",
    "except: print(\"Unable to convert back to original object\")\n",
    "    \n",
    "u = repr(today) # converting datetime object to str\n",
    "print(u)\n",
    "e = eval(u) # converting str back to datetime object\n",
    "print(e)"
   ]
  },
  {
   "cell_type": "markdown",
   "id": "b6897b11",
   "metadata": {},
   "source": [
    "# Q3. In a class, how do you intercept slice operations?"
   ]
  },
  {
   "cell_type": "markdown",
   "id": "5c050b89",
   "metadata": {},
   "source": [
    "Answer:\n",
    "    \n",
    "    In Python, you can intercept slice operations on a class by defining the __getitem__() method. This method is called \n",
    "    when an instance of a class is accessed using square brackets [], and it can be used to customize the behavior of \n",
    "    slicing.\n",
    "\n",
    "    To intercept slice operations, you need to implement the __getitem__() method with two arguments: self and key. The key argument will be a slice object that represents the slice operation being performed. You can then extract the start, \n",
    "    stop, and step attributes of the slice object to perform the desired operation.\n",
    "    \n",
    "    Ex: __getitem__(slice(start,stop,step)"
   ]
  },
  {
   "cell_type": "markdown",
   "id": "e6a04795",
   "metadata": {},
   "source": [
    "# Q4. In a class, how do you capture in-place addition?"
   ]
  },
  {
   "cell_type": "markdown",
   "id": "c49e0f6c",
   "metadata": {},
   "source": [
    "Answer:\n",
    "    \n",
    "    In Python, you can capture in-place addition in a class by defining the __iadd__() method. This method is called when \n",
    "    the += operator is used on an instance of the class, and it can be used to customize the behavior of in-place addition.\n",
    "\n",
    "    To capture in-place addition, you need to implement the __iadd__() method with two arguments: self and other. The other argument will be the value being added to the instance of the class. You can then modify the instance of the class \n",
    "    in-place to incorporate the value being added."
   ]
  },
  {
   "cell_type": "code",
   "execution_count": 10,
   "id": "9050b99e",
   "metadata": {},
   "outputs": [],
   "source": [
    "class college:\n",
    "    def __init__(self,students):\n",
    "        self.students = students\n",
    "    def __iadd__(self,other):\n",
    "        self.students += other.students\n",
    "        return self.students"
   ]
  },
  {
   "cell_type": "code",
   "execution_count": 11,
   "id": "35aedafe",
   "metadata": {},
   "outputs": [
    {
     "name": "stdout",
     "output_type": "stream",
     "text": [
      "5000\n"
     ]
    }
   ],
   "source": [
    "s1 = college(2000)\n",
    "s2 = college(3000)\n",
    "s1+=s2\n",
    "print(s1)"
   ]
  },
  {
   "cell_type": "markdown",
   "id": "1e29eece",
   "metadata": {},
   "source": [
    "# Q5. When is it appropriate to use operator overloading?"
   ]
  },
  {
   "cell_type": "markdown",
   "id": "ecb41223",
   "metadata": {},
   "source": [
    "Answer:\n",
    "    \n",
    "     Operator overloading is used when we want to use an operator other than its normal operation to have different meaning according to the context required in user defined function.\n",
    "     \n",
    "     "
   ]
  },
  {
   "cell_type": "code",
   "execution_count": 12,
   "id": "b9f9461b",
   "metadata": {},
   "outputs": [
    {
     "name": "stdout",
     "output_type": "stream",
     "text": [
      "Total Number of crowd -> 50000\n"
     ]
    }
   ],
   "source": [
    "class population:\n",
    "    def __init__(self,crowd):\n",
    "        self.crowd = crowd\n",
    "    def __add__(self,other):\n",
    "        return self.crowd+other.crowd\n",
    "p1 = population(30000)\n",
    "p2 = population(20000)\n",
    "print(f'Total Number of crowd -> {p1+p2}')"
   ]
  }
 ],
 "metadata": {
  "kernelspec": {
   "display_name": "Python 3 (ipykernel)",
   "language": "python",
   "name": "python3"
  },
  "language_info": {
   "codemirror_mode": {
    "name": "ipython",
    "version": 3
   },
   "file_extension": ".py",
   "mimetype": "text/x-python",
   "name": "python",
   "nbconvert_exporter": "python",
   "pygments_lexer": "ipython3",
   "version": "3.9.12"
  }
 },
 "nbformat": 4,
 "nbformat_minor": 5
}
