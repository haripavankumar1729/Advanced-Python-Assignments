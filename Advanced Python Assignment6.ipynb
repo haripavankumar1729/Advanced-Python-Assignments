{
 "cells": [
  {
   "cell_type": "markdown",
   "id": "9e9d2b6e",
   "metadata": {},
   "source": [
    "# Q1. Describe three applications for exception processing."
   ]
  },
  {
   "cell_type": "markdown",
   "id": "e5711da8",
   "metadata": {},
   "source": [
    "Answer:\n",
    "    \n",
    "    Exception handling is an important concept in that allows you to gracefully handle errors that may occur in \n",
    "    your program. Here are three common applications for exception processing in Python:\n",
    "\n",
    "    Input validation: When accepting input from users or external sources, it's important to validate the input to ensure \n",
    "    that it meets certain criteria. For example, if you're asking a user to enter a number, you'll want to make sure that \n",
    "    the input is actually a number and not a string. If the input doesn't meet the validation criteria, you can raise an             exception to indicate that there's a problem with the input.\n",
    "\n",
    "    File I/O: Reading and writing files is a common task in Python, but it's important to handle exceptions that may occur \n",
    "    when working with files. For example, if you're trying to open a file that doesn't exist, you'll get a \n",
    "    FileNotFoundError.By handling this exception, you can display a more user-friendly message or take other actions to \n",
    "    handle the error.\n",
    "\n",
    "    Network communication: When working with network communication in Python, there are many exceptions that may occur, \n",
    "    such as connection errors or timeouts. By handling these exceptions, you can ensure that your program continues to \n",
    "    function properly even if there are network issues.\n",
    "\n",
    "    In general, exception processing is a powerful tool that allows you to handle unexpected errors in a controlled and \n",
    "    graceful manner. By anticipating potential errors and handling them appropriately, you can write more robust and \n",
    "    reliable Python programs.\n",
    "\n",
    "\n",
    "\n",
    "\n",
    "\n"
   ]
  },
  {
   "cell_type": "markdown",
   "id": "53dfafd8",
   "metadata": {},
   "source": [
    "# Q2. What happens if you don&#39;t do something extra to treat an exception?"
   ]
  },
  {
   "cell_type": "markdown",
   "id": "76c2d920",
   "metadata": {},
   "source": [
    "Answer:\n",
    "    \n",
    "    If you don't handle an exception, the program will terminate with an error message, and the stack trace \n",
    "    will be printed to the console. The error message will provide information about the type of exception that was raised, \n",
    "    as well as the line of code where the exception occurred. This can be useful for debugging, as it allows you to \n",
    "    identify the source of the problem.\n",
    "\n",
    "    However, simply allowing the program to terminate with an unhandled exception is generally not desirable, as it can \n",
    "    leave the program in an inconsistent state and may cause data loss or other issues. In addition, it can be confusing \n",
    "    or frustrating for users who may not understand the error message.\n",
    "\n",
    "    Therefore, it's important to handle exceptions appropriately in your Python code. This can involve using try/except \n",
    "    blocks to catch and handle specific exceptions, or using a more general catch-all exception handler to handle any \n",
    "    exceptions that occur. By handling exceptions in a controlled manner, you can ensure that your program remains stable \n",
    "    and reliable, even in the face of unexpected errors."
   ]
  },
  {
   "cell_type": "markdown",
   "id": "17715e53",
   "metadata": {},
   "source": [
    "# Q3. What are your options for recovering from an exception in your script?"
   ]
  },
  {
   "cell_type": "markdown",
   "id": "e279b54b",
   "metadata": {},
   "source": [
    "Answer:\n",
    "    \n",
    "    There are several options for recovering from an exception in your script:\n",
    "\n",
    "    Handle the exception: You can use a try/except block to catch and handle the exception. This allows you to take \n",
    "    specific actions to recover from the error and continue execution of the script.\n",
    "\n",
    "    Retry the operation: Depending on the type of exception, it may be possible to retry the operation that caused the exception. For example, if a network request fails due to a connection error, you can retry the request after a short \n",
    "    delay to see if the issue has been resolved.\n",
    "    \n",
    "    Rollback the transaction: If the exception occurred during a database transaction, you may need to roll back the \n",
    "    transaction to ensure that the database remains in a consistent state.\n",
    "\n",
    "    Log the error: Even if you can't recover from the exception, it's important to log the error so that you can identify \n",
    "    and fix the underlying issue. You can use Python's logging module to log the error information to a file or other destination.\n",
    "\n",
    "    Display a user-friendly message: If your script is being used by end users, it may be helpful to display \n",
    "    a user-friendly message explaining the issue and providing guidance on how to resolve it.\n",
    "\n",
    "    By using one or more of these recovery options, you can ensure that your script remains robust and reliable, \n",
    "    even in the face of unexpected errors.\n"
   ]
  },
  {
   "cell_type": "markdown",
   "id": "ec304ac5",
   "metadata": {},
   "source": [
    "# Q4. Describe two methods for triggering exceptions in your script?"
   ]
  },
  {
   "cell_type": "markdown",
   "id": "534e3700",
   "metadata": {},
   "source": [
    "Answer:\n",
    "    \n",
    "    raise and assert are two methods that can be used to trigger manual exceptions in your script.\n",
    "\n",
    "    raise method triggers an exception if condition provided to it turns out to be True.\n",
    "\n",
    "    assert will let the program to continue execution if condition provided to it turns out to be True else exception \n",
    "    will be raised"
   ]
  },
  {
   "cell_type": "code",
   "execution_count": 3,
   "id": "5252ffd1",
   "metadata": {},
   "outputs": [
    {
     "ename": "Exception",
     "evalue": "X Value Should not exceed 13 The Provided Value of X is 24",
     "output_type": "error",
     "traceback": [
      "\u001b[1;31m---------------------------------------------------------------------------\u001b[0m",
      "\u001b[1;31mException\u001b[0m                                 Traceback (most recent call last)",
      "Input \u001b[1;32mIn [3]\u001b[0m, in \u001b[0;36m<cell line: 2>\u001b[1;34m()\u001b[0m\n\u001b[0;32m      1\u001b[0m x \u001b[38;5;241m=\u001b[39m \u001b[38;5;241m24\u001b[39m\n\u001b[1;32m----> 2\u001b[0m \u001b[38;5;28;01mraise\u001b[39;00m \u001b[38;5;167;01mException\u001b[39;00m(\u001b[38;5;124mf\u001b[39m\u001b[38;5;124m'\u001b[39m\u001b[38;5;124mX Value Should not exceed 13 The Provided Value of X is \u001b[39m\u001b[38;5;132;01m{\u001b[39;00mx\u001b[38;5;132;01m}\u001b[39;00m\u001b[38;5;124m'\u001b[39m)\n",
      "\u001b[1;31mException\u001b[0m: X Value Should not exceed 13 The Provided Value of X is 24"
     ]
    }
   ],
   "source": [
    "x = 24\n",
    "raise Exception(f'X Value Should not exceed 13 The Provided Value of X is {x}')"
   ]
  },
  {
   "cell_type": "code",
   "execution_count": 5,
   "id": "d0ceaa05",
   "metadata": {},
   "outputs": [
    {
     "ename": "AssertionError",
     "evalue": "4 is not equal to 2",
     "output_type": "error",
     "traceback": [
      "\u001b[1;31m---------------------------------------------------------------------------\u001b[0m",
      "\u001b[1;31mAssertionError\u001b[0m                            Traceback (most recent call last)",
      "Input \u001b[1;32mIn [5]\u001b[0m, in \u001b[0;36m<cell line: 1>\u001b[1;34m()\u001b[0m\n\u001b[1;32m----> 1\u001b[0m \u001b[38;5;28;01massert\u001b[39;00m(\u001b[38;5;241m4\u001b[39m\u001b[38;5;241m==\u001b[39m\u001b[38;5;241m2\u001b[39m), \u001b[38;5;124m\"\u001b[39m\u001b[38;5;124m4 is not equal to 2\u001b[39m\u001b[38;5;124m\"\u001b[39m\n",
      "\u001b[1;31mAssertionError\u001b[0m: 4 is not equal to 2"
     ]
    }
   ],
   "source": [
    "assert(4==2), \"4 is not equal to 2\""
   ]
  },
  {
   "cell_type": "markdown",
   "id": "172a875f",
   "metadata": {},
   "source": [
    "# Q5. Identify two methods for specifying actions to be executed at termination time, regardless of whether or not an exception exists?"
   ]
  },
  {
   "cell_type": "markdown",
   "id": "7f7d2a1d",
   "metadata": {},
   "source": [
    "Answer:\n",
    "    \n",
    "    There are several ways to specify actions to be executed at termination time, regardless of whether or not \n",
    "    an exception exists. Here are two methods:\n",
    "\n",
    "    1. Using a finally block: A finally block is used to specify a block of code that will be executed at termination time,             regardless of whether or not an exception was raised. This block is placed after the try and except blocks, and will \n",
    "    execute after either the try or except block is executed. \n",
    "    \n",
    "    2. Using the atexit module: The atexit module provides a simple way to register functions to be called at termination \n",
    "    time. This module defines a single function, register(), that can be used to register a function to be called at \n",
    "    termination time.\n",
    "    \n",
    "    Here is an example:"
   ]
  },
  {
   "cell_type": "code",
   "execution_count": null,
   "id": "ffcf986c",
   "metadata": {},
   "outputs": [],
   "source": [
    "try:\n",
    "    # some code that may raise an exception\n",
    "except SomeException:\n",
    "    # handle the exception\n",
    "finally:\n",
    "    # code to be executed at termination time, regardless of whether or not an exception was raised"
   ]
  },
  {
   "cell_type": "code",
   "execution_count": null,
   "id": "05deed4e",
   "metadata": {},
   "outputs": [],
   "source": [
    "import atexit\n",
    "\n",
    "def cleanup():\n",
    "    # code to be executed at termination time\n",
    "\n",
    "atexit.register(cleanup)\n"
   ]
  },
  {
   "cell_type": "markdown",
   "id": "cacef172",
   "metadata": {},
   "source": [
    "    From aboce example, the cleanup() function will be called at termination time, regardless of whether or not an exception was raised."
   ]
  }
 ],
 "metadata": {
  "kernelspec": {
   "display_name": "Python 3 (ipykernel)",
   "language": "python",
   "name": "python3"
  },
  "language_info": {
   "codemirror_mode": {
    "name": "ipython",
    "version": 3
   },
   "file_extension": ".py",
   "mimetype": "text/x-python",
   "name": "python",
   "nbconvert_exporter": "python",
   "pygments_lexer": "ipython3",
   "version": "3.9.12"
  }
 },
 "nbformat": 4,
 "nbformat_minor": 5
}
