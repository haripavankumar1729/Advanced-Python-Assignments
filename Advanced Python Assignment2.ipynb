{
 "cells": [
  {
   "cell_type": "markdown",
   "id": "8db9b47e",
   "metadata": {},
   "source": [
    "# Q1. What is the relationship between classes and modules?"
   ]
  },
  {
   "cell_type": "markdown",
   "id": "b226801e",
   "metadata": {},
   "source": [
    "Answer:\n",
    "    \n",
    "In Python, modules and classes have a close relationship, as modules are often used to group related classes together.\n",
    "    \n",
    "A module in Python is simply a file containing Python definitions and statements. A module can define functions, classes, and variables, and can be imported into other modules or scripts to provide functionality.\n",
    "    \n",
    "A class, on the other hand, is a type of object in Python that defines a blueprint for creating objects with specific attributes and behaviors. Classes can be defined within a module or imported from another module.\n",
    "    \n",
    "In Python, it is common to organize related classes into modules, with each module containing a set of classes that are related in some way. This makes it easier to manage and maintain large Python projects, as it allows for better organization and separation of concerns.\n",
    "    \n",
    "When a module is imported into another module or script, any classes defined in that module can be accessed using dot notation, for example:\n",
    "\n"
   ]
  },
  {
   "cell_type": "code",
   "execution_count": null,
   "id": "a2cc7b50",
   "metadata": {},
   "outputs": [],
   "source": [
    "import my_module\n",
    "\n",
    "object = my_module.test1()\n"
   ]
  },
  {
   "cell_type": "markdown",
   "id": "54192d93",
   "metadata": {},
   "source": [
    "Here, test1 is a class defined within the my_module module, and it can be instantiated to create new objects.\n",
    "\n",
    "Overall, modules and classes are both important concepts in Python, and they work together to provide a powerful and flexible programming environment.\n"
   ]
  },
  {
   "cell_type": "markdown",
   "id": "5a202154",
   "metadata": {},
   "source": [
    "# Q2. How do you make instances and classes?"
   ]
  },
  {
   "cell_type": "markdown",
   "id": "af8a19b8",
   "metadata": {},
   "source": [
    "For creating a class instance. we call a class by its name and pass the arguments which its __init__ method accepts.\n",
    "\n",
    "Example: \n",
    "    \n",
    "Hari = Team_Lead('Male',9000000), Here Hari is an instance of class Team_Lead with attriubutes 'Male' and 9000000.\n",
    "\n",
    "Whereas for creating a class, we use the Class keyword. Class keyword is followed by classname and semicolon.\n",
    "\n",
    "Here Team_Lead is a class created with class keyword with arguments gender and salary."
   ]
  },
  {
   "cell_type": "code",
   "execution_count": 2,
   "id": "649f69da",
   "metadata": {},
   "outputs": [],
   "source": [
    "class Team_Lead:\n",
    "    def __init__(self, gender,salary):\n",
    "        self.gender = gender\n",
    "        self.salary = salary"
   ]
  },
  {
   "cell_type": "code",
   "execution_count": 3,
   "id": "0c6e3e5b",
   "metadata": {},
   "outputs": [
    {
     "data": {
      "text/plain": [
       "<__main__.Team_Lead at 0x2097cd94bb0>"
      ]
     },
     "execution_count": 3,
     "metadata": {},
     "output_type": "execute_result"
    }
   ],
   "source": [
    "Team_Lead(\"Male\", 9000000)"
   ]
  },
  {
   "cell_type": "markdown",
   "id": "618b1f8c",
   "metadata": {},
   "source": [
    "# Q3. Where and how should be class attributes created?"
   ]
  },
  {
   "cell_type": "markdown",
   "id": "c975dcb6",
   "metadata": {},
   "source": [
    "In Python, class attributes are created inside the class definition but outside of any class method. They are shared by all instances of the class, which means that if any instance modifies the value of the attribute, the change will be reflected in all other instances as well.\n",
    "\n",
    "Here's an example of how to create class attributes in Python:"
   ]
  },
  {
   "cell_type": "code",
   "execution_count": 6,
   "id": "a940b4ed",
   "metadata": {},
   "outputs": [],
   "source": [
    "class car:\n",
    "    class_attr = \"This is a luxury car\"\n",
    "\n",
    "    def __init__(self, model):\n",
    "        self.model = model\n"
   ]
  },
  {
   "cell_type": "markdown",
   "id": "b8e98c64",
   "metadata": {},
   "source": [
    "In the above example, class_attr is a class attribute, while model is an instance attribute that is specific to each object created from the class."
   ]
  },
  {
   "cell_type": "code",
   "execution_count": 8,
   "id": "8028a3ee",
   "metadata": {},
   "outputs": [
    {
     "name": "stdout",
     "output_type": "stream",
     "text": [
      "This is a luxury car\n",
      "This is a luxury car\n"
     ]
    }
   ],
   "source": [
    "print(car.class_attr)  # Output: This is a class attribute\n",
    "\n",
    "obj = car(\"TATA\")\n",
    "print(obj.class_attr)  # Output: This is a class attribute\n"
   ]
  },
  {
   "cell_type": "markdown",
   "id": "ccbe2b5f",
   "metadata": {},
   "source": [
    "# Q4. Where and how are instance attributes created?"
   ]
  },
  {
   "cell_type": "markdown",
   "id": "b1759a58",
   "metadata": {},
   "source": [
    "Answer:\n",
    "    \n",
    "In Python, instance attributes are created within the __init__ method of a class. The __init__ method is a special method that is called when an instance of the class is created. It is used to initialize the attributes of the instance.\n",
    "\n",
    "Here's an example of how to create instance attributes in Python:"
   ]
  },
  {
   "cell_type": "code",
   "execution_count": 11,
   "id": "f4430343",
   "metadata": {},
   "outputs": [],
   "source": [
    "class school:\n",
    "    def __init__(self, rank, blocks):\n",
    "        self.rank = rank\n",
    "        self.blocks = blocks\n"
   ]
  },
  {
   "cell_type": "code",
   "execution_count": null,
   "id": "3e08bf5a",
   "metadata": {},
   "outputs": [],
   "source": [
    "In the above example, rank, blocks is an instance attribute that is initialized using the __init__ method. Each instance of the class will have its own copy of rank, blocks.\n",
    "\n",
    "To create an instance of the class and initialize its attributes, you can do the following:"
   ]
  },
  {
   "cell_type": "code",
   "execution_count": 12,
   "id": "367414d0",
   "metadata": {},
   "outputs": [],
   "source": [
    "obj = school(1,10)"
   ]
  },
  {
   "cell_type": "code",
   "execution_count": 14,
   "id": "53a96fc0",
   "metadata": {},
   "outputs": [
    {
     "name": "stdout",
     "output_type": "stream",
     "text": [
      "1\n"
     ]
    }
   ],
   "source": [
    "print(obj.rank)"
   ]
  },
  {
   "cell_type": "code",
   "execution_count": 15,
   "id": "a87a7509",
   "metadata": {},
   "outputs": [
    {
     "name": "stdout",
     "output_type": "stream",
     "text": [
      "10\n"
     ]
    }
   ],
   "source": [
    "print(obj.blocks)"
   ]
  },
  {
   "cell_type": "markdown",
   "id": "4c186735",
   "metadata": {},
   "source": [
    "# Q5. What does the term &quot;self&quot; in a Python class mean?"
   ]
  },
  {
   "cell_type": "markdown",
   "id": "910cc099",
   "metadata": {},
   "source": [
    "Answer:\n",
    "    \n",
    "In Python, self is a conventionally used keyword that refers to the instance of a class that a method is being called on. It is used as the first parameter in the definition of instance methods. When an instance method is called on an object, the object instance is automatically passed to the method as the first argument, which is named self by convention. Simply self acts as pointer. \n",
    "\n",
    "For example, consider the following class:"
   ]
  },
  {
   "cell_type": "code",
   "execution_count": 23,
   "id": "b95ed29d",
   "metadata": {},
   "outputs": [],
   "source": [
    "class state:\n",
    "    def survey(self, dist_name1, dist_name2):\n",
    "        self.dist_name1=dist_name1\n",
    "        self.dist_name2=dist_name2"
   ]
  },
  {
   "cell_type": "markdown",
   "id": "98bc549e",
   "metadata": {},
   "source": [
    "In the above example, survey is an instance method of the state class that takes two arguments, dist_name1 and dist_name2. The self parameter is not explicitly passed to the method when it is called - it is automatically passed as the first argument by Python.\n",
    "\n",
    "When calling an instance method on an object, self refers to that object instance. \n",
    "\n",
    "For example:"
   ]
  },
  {
   "cell_type": "code",
   "execution_count": 24,
   "id": "cf856af2",
   "metadata": {},
   "outputs": [],
   "source": [
    "obj = state()\n",
    "obj.survey(\"shivamogga\", \"mangalore\")\n"
   ]
  },
  {
   "cell_type": "markdown",
   "id": "d4ae87ae",
   "metadata": {},
   "source": [
    "In the above example, survey is called on the obj instance of the state class. Inside the method, self refers to the obj instance. This allows you to access and modify the instance attributes of obj inside the method.\n",
    "\n",
    "Note that the use of self is a convention and not a strict requirement - you can technically use any variable name in place of self. However, using self makes your code more readable and easier to understand for other developers who are familiar with Python conventions."
   ]
  },
  {
   "cell_type": "markdown",
   "id": "18d669e3",
   "metadata": {},
   "source": [
    "# Q6. How does a Python class handle operator overloading?"
   ]
  },
  {
   "cell_type": "markdown",
   "id": "4e1a6748",
   "metadata": {},
   "source": [
    "Answer:\n",
    "     \n",
    "Python Classes handle operator overloading by using special methods called Magic methods. these special methods usually begin and end with __ (double underscore)\n",
    "\n",
    "Example: Magic methods for basic arithmetic operators are:\n",
    "    "
   ]
  },
  {
   "cell_type": "code",
   "execution_count": null,
   "id": "bf333d52",
   "metadata": {},
   "outputs": [],
   "source": [
    "+ -> __add__()\n",
    "- -> __sub__()\n",
    "* -> __mul__()\n",
    "/ -> __div__()"
   ]
  },
  {
   "cell_type": "code",
   "execution_count": 31,
   "id": "8ba5a9c9",
   "metadata": {},
   "outputs": [
    {
     "name": "stdout",
     "output_type": "stream",
     "text": [
      "The total number of strength in two colleges is 7000\n"
     ]
    }
   ],
   "source": [
    "class college:\n",
    "    def __init__(self,strength):\n",
    "        self.strength = strength\n",
    "    def __add__(self,other):\n",
    "        return self.strength + other.strength\n",
    "s1 = college(2000)\n",
    "s2 = college(5000)\n",
    "print(f'The total number of strength in two colleges is {s1+s2}')"
   ]
  },
  {
   "cell_type": "markdown",
   "id": "7f1831cd",
   "metadata": {},
   "source": [
    "# Q7. When do you consider allowing operator overloading of your classes?"
   ]
  },
  {
   "cell_type": "markdown",
   "id": "7fc73f51",
   "metadata": {},
   "source": [
    "Answer:\n",
    "    \n",
    "   In Python, we can change the way operators work for user-defined types.\n",
    "\n",
    "For example, the + operator will perform arithmetic addition on two numbers, merge two lists, or concatenate two strings.\n",
    "\n",
    "This feature in Python that allows the same operator to have different meaning according to the context is called operator overloading.\n",
    "    \n",
    "   Class functions that begin with double underscore __ are called special functions in Python.\n",
    "\n",
    "The special functions are defined by the Python interpreter and used to implement certain features or behaviors.\n",
    "\n",
    "They are called \"double underscore\" functions because they have a double underscore prefix and suffix, such as __init__() or __add__().\n",
    "\n",
    "Here are some of the special functions available in Python,"
   ]
  },
  {
   "cell_type": "markdown",
   "id": "9ea74849",
   "metadata": {},
   "source": [
    "__init__()   initialize the attributes of the object\n",
    "\n",
    "__str__()    returns a string representation of the object\n",
    "\n",
    "__len__()    returns the length of the object\n",
    "\n",
    "__add__()    adds two objects\n",
    "\n",
    "__call__()   call objects of the class like a normal function"
   ]
  },
  {
   "cell_type": "markdown",
   "id": "c7d14d78",
   "metadata": {},
   "source": [
    "To overload the + operator, we will need to implement __add__() function in the class."
   ]
  },
  {
   "cell_type": "code",
   "execution_count": 34,
   "id": "427cf15b",
   "metadata": {},
   "outputs": [
    {
     "name": "stdout",
     "output_type": "stream",
     "text": [
      "Output is  (3,5)\n"
     ]
    }
   ],
   "source": [
    "class Point:\n",
    "    def __init__(self, x=0, y=0):\n",
    "        self.x = x\n",
    "        self.y = y\n",
    "\n",
    "    def __str__(self):\n",
    "        return \"({0},{1})\".format(self.x, self.y)\n",
    "\n",
    "    def __add__(self, other):\n",
    "        x = self.x + other.x\n",
    "        y = self.y + other.y\n",
    "        return Point(x, y)\n",
    "\n",
    "\n",
    "p1 = Point(1, 2)\n",
    "p2 = Point(2, 3)\n",
    "\n",
    "print(\"Output is \", p1+p2)\n",
    "\n"
   ]
  },
  {
   "cell_type": "code",
   "execution_count": null,
   "id": "53922db9",
   "metadata": {},
   "outputs": [],
   "source": [
    "In the above example, what actually happens is that, \n",
    "\n",
    "when we use p1 + p2, Python calls p1.__add__(p2) which in turn is Point.__add__(p1,p2). \n",
    "\n",
    "After this, the addition operation is carried out the way we specified."
   ]
  },
  {
   "cell_type": "markdown",
   "id": "df2912b6",
   "metadata": {},
   "source": [
    "# Q8. What is the most popular form of operator overloading?"
   ]
  },
  {
   "cell_type": "markdown",
   "id": "7eca6dd8",
   "metadata": {},
   "source": [
    "Answer:\n",
    "    \n",
    "   In Python, the most popular form of operator overloading is probably the arithmetic operator overloading as well. This involves overloading arithmetic operators such as addition (+), subtraction (-), multiplication (*), and division (/) etc...\n",
    "   \n",
    "   The most popular form of operator overloading in python is by special methods called Magic methods. Which usually beign and end with double underscore __<method name>__."
   ]
  },
  {
   "cell_type": "code",
   "execution_count": 6,
   "id": "171bca16",
   "metadata": {},
   "outputs": [
    {
     "name": "stdout",
     "output_type": "stream",
     "text": [
      "Difference -> 18\n",
      "String Concatenation -> Hari Pavan\n"
     ]
    }
   ],
   "source": [
    "class xyz:\n",
    "    def __init__(self,a):\n",
    "        self.a = a\n",
    "    def __add__(self,o):\n",
    "        return self.a + o.a\n",
    "obj1 = xyz(10)\n",
    "obj2 = xyz(8)\n",
    "obj3 = xyz('Hari')\n",
    "obj4 = xyz(' Pavan')\n",
    "print(f'Difference -> {obj1 + obj2}')\n",
    "print(f'String Concatenation -> {obj3 + obj4}')"
   ]
  },
  {
   "cell_type": "markdown",
   "id": "37fc2056",
   "metadata": {},
   "source": [
    "# Q9. What are the two most important concepts to grasp in order to comprehend Python OOP code?"
   ]
  },
  {
   "cell_type": "markdown",
   "id": "885fbe81",
   "metadata": {},
   "source": [
    "Answer:\n",
    "    \n",
    "   The two most important concepts to grasp in order to comprehend Python OOP code are:\n",
    "\n",
    "Classes and Objects:\n",
    "Classes are the blueprint for creating objects in Python. A class defines the attributes and methods that an object will have. Objects are instances of a class and each object has its own unique set of attribute values. In Python, objects are created by calling the class with arguments, which are used to initialize the object's attributes. Understanding how classes and objects work is crucial to understanding Python OOP code.\n",
    "\n",
    "Inheritance:\n",
    "Inheritance is the ability of a subclass to inherit attributes and methods from its superclass. This is a fundamental concept in OOP and allows for code reuse and organization. In Python, inheritance is implemented using the \"extends\" keyword. Understanding how inheritance works is important for understanding how Python OOP code is structured and how classes relate to each other.\n",
    "\n",
    "Along with this classes and objects, the important concepts to grasp are\n",
    "\n",
    "Inheritence\n",
    "\n",
    "Encapsulation\n",
    "\n",
    "Abstraction\n",
    "\n",
    "Polymorphism\n",
    "    "
   ]
  }
 ],
 "metadata": {
  "kernelspec": {
   "display_name": "Python 3 (ipykernel)",
   "language": "python",
   "name": "python3"
  },
  "language_info": {
   "codemirror_mode": {
    "name": "ipython",
    "version": 3
   },
   "file_extension": ".py",
   "mimetype": "text/x-python",
   "name": "python",
   "nbconvert_exporter": "python",
   "pygments_lexer": "ipython3",
   "version": "3.9.12"
  }
 },
 "nbformat": 4,
 "nbformat_minor": 5
}
