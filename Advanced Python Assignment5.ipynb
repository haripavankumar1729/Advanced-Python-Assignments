{
 "cells": [
  {
   "cell_type": "markdown",
   "id": "2d7f2b70",
   "metadata": {},
   "source": [
    "# Q1. What is the meaning of multiple inheritance?"
   ]
  },
  {
   "cell_type": "markdown",
   "id": "ddb989ff",
   "metadata": {},
   "source": [
    "Answer:\n",
    "    \n",
    "    Multiple inheritance refers to the ability of a class to inherit properties and methods from multiple parent classes. \n",
    "    This means that a class can have more than one base class, allowing it to inherit attributes and methods from all of \n",
    "    them.\n",
    "\n",
    "    To define a class with multiple inheritance, you simply list the names of the parent classes in the class definition,           separated by commas. "
   ]
  },
  {
   "cell_type": "code",
   "execution_count": 1,
   "id": "be4b129f",
   "metadata": {},
   "outputs": [],
   "source": [
    "class xyx:\n",
    "    pass\n",
    "class xyx1:\n",
    "    pass\n",
    "class child(xyx,xyx1):\n",
    "    pass\n"
   ]
  },
  {
   "cell_type": "markdown",
   "id": "2ffcf159",
   "metadata": {},
   "source": [
    "# Q2. What is the concept of delegation?"
   ]
  },
  {
   "cell_type": "markdown",
   "id": "13edfccf",
   "metadata": {},
   "source": [
    "Answer:\n",
    "    \n",
    "    Delegation is a programming pattern in which an object forwards or delegates a method call to another object, rather \n",
    "    than implementing the method itself. Delegation allows objects to share responsibilities and collaborate in a more \n",
    "    flexible and modular way.\n",
    "\n",
    "    To implement delegation, you typically define a class that acts as a wrapper or proxy around another object. \n",
    "    The wrapper object exposes the same methods and attributes as the underlying object, but instead of implementing \n",
    "    those methods itself, it simply delegates the method calls to the underlying object.\n",
    "    \n",
    "    Simply Delegation means that you can include a instance of another class as an instance variable, and forward messages\n",
    "    to the instance."
   ]
  },
  {
   "cell_type": "code",
   "execution_count": 2,
   "id": "34c9b2f1",
   "metadata": {},
   "outputs": [],
   "source": [
    "class Myclass:\n",
    "    def xyz(self):\n",
    "        print('presenting ineuron')\n",
    "    def xyz1(self):\n",
    "        print('doing oops')\n",
    "class NewClass:\n",
    "    def __init__(self,obj):\n",
    "        self.main = obj\n",
    "    def welcome(self):\n",
    "        self.main.xyz()"
   ]
  },
  {
   "cell_type": "code",
   "execution_count": 3,
   "id": "00f26545",
   "metadata": {},
   "outputs": [],
   "source": [
    "m = Myclass() "
   ]
  },
  {
   "cell_type": "code",
   "execution_count": 4,
   "id": "e9cae9cc",
   "metadata": {},
   "outputs": [],
   "source": [
    "n = NewClass(m)"
   ]
  },
  {
   "cell_type": "code",
   "execution_count": 5,
   "id": "8f71cefa",
   "metadata": {},
   "outputs": [
    {
     "name": "stdout",
     "output_type": "stream",
     "text": [
      "presenting ineuron\n"
     ]
    }
   ],
   "source": [
    "m.xyz()"
   ]
  },
  {
   "cell_type": "code",
   "execution_count": 6,
   "id": "1d15db12",
   "metadata": {},
   "outputs": [
    {
     "name": "stdout",
     "output_type": "stream",
     "text": [
      "presenting ineuron\n"
     ]
    }
   ],
   "source": [
    "n.main.xyz()"
   ]
  },
  {
   "cell_type": "code",
   "execution_count": 7,
   "id": "969df2cb",
   "metadata": {},
   "outputs": [
    {
     "name": "stdout",
     "output_type": "stream",
     "text": [
      "presenting ineuron\n"
     ]
    }
   ],
   "source": [
    "n.welcome()"
   ]
  },
  {
   "cell_type": "code",
   "execution_count": 8,
   "id": "5b0d4fe2",
   "metadata": {},
   "outputs": [
    {
     "name": "stdout",
     "output_type": "stream",
     "text": [
      "doing oops\n"
     ]
    }
   ],
   "source": [
    "n.main.xyz1()"
   ]
  },
  {
   "cell_type": "markdown",
   "id": "3901b83a",
   "metadata": {},
   "source": [
    "# Q3. What is the concept of composition?"
   ]
  },
  {
   "cell_type": "markdown",
   "id": "3a04d8f7",
   "metadata": {},
   "source": [
    "Answer:\n",
    "    \n",
    "    Composition refers to the process of creating complex objects by combining or composing smaller objects together.\n",
    "\n",
    "    Composition is a design pattern that allows objects to have complex behaviors by combining smaller objects that \n",
    "    specialize in specific tasks. In other words, instead of creating a single monolithic class to handle all the \n",
    "    functionality, the functionality is split into smaller, more focused classes that are then combined into a larger, \n",
    "    more complex object.\n",
    "\n",
    "    For example, suppose you have a class called Car and another class called Engine. Instead of inheriting from Engine, \n",
    "    you can create an instance of the Engine class inside the Car class, and use it to power the Car. This is known as \n",
    "    composition."
   ]
  },
  {
   "cell_type": "code",
   "execution_count": 13,
   "id": "43052929",
   "metadata": {},
   "outputs": [],
   "source": [
    "class Engine:\n",
    "    def start(self):\n",
    "        print(\"Engine started\")\n",
    "\n",
    "    def stop(self):\n",
    "        print(\"Engine stopped\")\n",
    "\n",
    "class Car:\n",
    "    def __init__(self):\n",
    "        self.engine = Engine()\n",
    "\n",
    "    def start(self):\n",
    "        self.engine.start()\n",
    "\n",
    "    def stop(self):\n",
    "        self.engine.stop()\n",
    "\n",
    "state = Car()"
   ]
  },
  {
   "cell_type": "code",
   "execution_count": 14,
   "id": "1b883dc9",
   "metadata": {},
   "outputs": [
    {
     "name": "stdout",
     "output_type": "stream",
     "text": [
      "Engine started\n"
     ]
    }
   ],
   "source": [
    "state.start()"
   ]
  },
  {
   "cell_type": "code",
   "execution_count": 15,
   "id": "694f1a7e",
   "metadata": {},
   "outputs": [
    {
     "name": "stdout",
     "output_type": "stream",
     "text": [
      "Engine stopped\n"
     ]
    }
   ],
   "source": [
    "state.stop()"
   ]
  },
  {
   "cell_type": "markdown",
   "id": "5e692e68",
   "metadata": {},
   "source": [
    "    In the above example, the Car class contains an instance of the Engine class, which is used to start and stop the car's         engine. This is an example of composition, where the Car class is composed of the Engine class."
   ]
  },
  {
   "cell_type": "markdown",
   "id": "bbfdfe0b",
   "metadata": {},
   "source": [
    "# Q4. What are bound methods and how do we use them?"
   ]
  },
  {
   "cell_type": "markdown",
   "id": "20fe1550",
   "metadata": {},
   "source": [
    "Answer:\n",
    "    \n",
    "     If a function is an attribute of class and it is accessed via the instances, they are called bound methods. A bound \n",
    "     method is one that has self as its first argument. Since these are dependent on the instance of classes, these are \n",
    "     also known as instance methods."
   ]
  },
  {
   "cell_type": "code",
   "execution_count": 16,
   "id": "e848bb83",
   "metadata": {},
   "outputs": [
    {
     "name": "stdout",
     "output_type": "stream",
     "text": [
      "Called method_one\n",
      "Called method_two\n",
      "Called method_two\n",
      "Called method_three\n"
     ]
    }
   ],
   "source": [
    "class Test:\n",
    "    def method_one(self): # bound method\n",
    "        print(\"Called method_one\")\n",
    "    @classmethod\n",
    "    def method_two(cls): # unbound method\n",
    "        print(\"Called method_two\")\n",
    "    @staticmethod\n",
    "    def method_three(): # static method\n",
    "        print(\"Called method_three\")\n",
    "\n",
    "test = Test()\n",
    "test.method_one() # accessing through instance object\n",
    "test.method_two() # accessing through instance object\n",
    "Test.method_two() # accessing directly through class\n",
    "Test.method_three() # accessing directly through class"
   ]
  },
  {
   "cell_type": "markdown",
   "id": "4f7083e6",
   "metadata": {},
   "source": [
    "# Q5. What is the purpose of pseudoprivate attributes?"
   ]
  },
  {
   "cell_type": "markdown",
   "id": "75d0697f",
   "metadata": {},
   "source": [
    "Answer:\n",
    "    \n",
    "    Pseudoprivate attributes are also useful in larger frameworks or tools, both to avoid introducing new method names \n",
    "    that might accidentally hide definitions elsewhere in the class tree and to reduce the chance of internal methods \n",
    "    being replaced by names defined lower in the tree. If a method is intended for use only within a class that may be \n",
    "    mixed into other classes, the double underscore prefix ensures that the method won't interfere with other names in \n",
    "    the tree, especially in multiple-inheritance scenarios\n",
    "\n",
    "    Pseudoprivate names also prevent subclasses from accidentally redefining the internal method's names"
   ]
  },
  {
   "cell_type": "code",
   "execution_count": 18,
   "id": "056dff77",
   "metadata": {},
   "outputs": [],
   "source": [
    "class Super:\n",
    "    def method(self): # A real application method\n",
    "        pass\n",
    "class Tool:\n",
    "    def _method(self): # becomes _Tool_method\n",
    "        pass\n",
    "    def other(self): # uses internal method\n",
    "        self._method()\n",
    "class Subl(Tool,Super):\n",
    "    def actions(self):\n",
    "        self.method()\n",
    "class Sub2(Tool):\n",
    "    def __init__(self):\n",
    "        self.method = 55"
   ]
  }
 ],
 "metadata": {
  "kernelspec": {
   "display_name": "Python 3 (ipykernel)",
   "language": "python",
   "name": "python3"
  },
  "language_info": {
   "codemirror_mode": {
    "name": "ipython",
    "version": 3
   },
   "file_extension": ".py",
   "mimetype": "text/x-python",
   "name": "python",
   "nbconvert_exporter": "python",
   "pygments_lexer": "ipython3",
   "version": "3.9.12"
  }
 },
 "nbformat": 4,
 "nbformat_minor": 5
}
